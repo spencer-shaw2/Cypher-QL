{
 "cells": [
  {
   "cell_type": "markdown",
   "metadata": {},
   "source": [
    "# About\n",
    "\n",
    "This notebook will introduce the `OPTIONAL MATCH` and `ORDER BY` cypher keywords."
   ]
  },
  {
   "cell_type": "code",
   "execution_count": null,
   "metadata": {},
   "outputs": [],
   "source": [
    "from neo4j import GraphDatabase, Record, ResultSummary, EagerResult\n",
    "from neo4j.time import Date\n",
    "\n",
    "import pandas as pd\n",
    "pd.set_option('display.max_colwidth', 100)\n",
    "\n",
    "import os \n",
    "import sys\n",
    "from dotenv import load_dotenv \n",
    "load_dotenv()\n",
    "\n",
    "# Add the utils directory to sys.path\n",
    "sys.path.append(os.path.abspath(\"../utils\"))\n",
    "\n",
    "from Neo4jParser import Neo4jParser\n",
    "\n",
    "\n",
    "NEO4J_URI = os.getenv(\"NEO4J_URI\")\n",
    "NEO4J_USERNAME = os.getenv(\"NEO4J_USERNAME\")\n",
    "NEO4J_PASSWORD = os.getenv(\"NEO4J_PASSWORD\")\n",
    "\n",
    "driver = GraphDatabase.driver(NEO4J_URI, auth=(NEO4J_USERNAME, NEO4J_PASSWORD))"
   ]
  },
  {
   "cell_type": "markdown",
   "metadata": {},
   "source": [
    "## `OPTIONAL MATCH`"
   ]
  },
  {
   "cell_type": "markdown",
   "metadata": {},
   "source": [
    "* `OPTIONAL MATCH` is great because it can be used to determine if something exists, but it is not required so it will not break the entire query.\n",
    "* It is better to use `MATCH` since the query writer has more control over exactly what is being asked. In downstream data processing, a data element that may or may not exist could be difficult to handle.\n",
    "* `OPTIONAL MATCH` is a great utility for creating relationships. If you are batch uploading records, it is not efficient to define each query. Rather you can write your query to create a relationship under certain conditions and `OPTIONAL MATCH` is great for this scenario. If the condition doesn't exist to create a relationship, no worries."
   ]
  },
  {
   "cell_type": "code",
   "execution_count": 3,
   "metadata": {},
   "outputs": [
    {
     "name": "stdout",
     "output_type": "stream",
     "text": [
      "Started streaming 1 records after 4 ms and completed after 7 ms.\n",
      "\n",
      "Query executed against database: 'neo4j':  \n",
      "    MATCH (movie:Movie {title: \"Joker\"})-[:ACTED_IN]-(actors:Person)\n",
      "    OPTIONAL MATCH (movie)-[:DIRECTED]-(director:Person)\n",
      "    RETURN DISTINCT movie.title AS movie, COUNT(actors) AS number_of_actors, director.name AS director\n",
      "    \n"
     ]
    },
    {
     "data": {
      "text/plain": [
       "{'movie': ['Joker'], 'director': [None], 'number_of_actors': [3]}"
      ]
     },
     "execution_count": 3,
     "metadata": {},
     "output_type": "execute_result"
    }
   ],
   "source": [
    "# Let's say we want to return all actors in a movie, and optionally the director if it's provided\n",
    "result = driver.execute_query(\n",
    "    \"\"\" \n",
    "    MATCH (movie:Movie {title: \"Joker\"})-[:ACTED_IN]-(actors:Person)\n",
    "    OPTIONAL MATCH (movie)-[:DIRECTED]-(director:Person)\n",
    "    RETURN DISTINCT movie.title AS movie, COUNT(actors) AS number_of_actors, director.name AS director\n",
    "    \"\"\",\n",
    "    database_=\"neo4j\"\n",
    ")\n",
    "\n",
    "data = Neo4jParser.parse(result, True, False)\n",
    "data"
   ]
  },
  {
   "cell_type": "markdown",
   "metadata": {},
   "source": [
    "**NOTE:** Above, notice the query returned the movie, the number of actors, and the director even though a director doesn't exist in the graph. If we were to remove the 'OPTIONAL' keyword in `OPTIONAL MATCH` the query would return nothing, since the pattern or condition provided does not exist."
   ]
  },
  {
   "cell_type": "code",
   "execution_count": 4,
   "metadata": {},
   "outputs": [
    {
     "name": "stdout",
     "output_type": "stream",
     "text": [
      "Started streaming 0 records after 0 ms and completed after 0 ms.\n",
      "\n",
      "Query executed against database: 'neo4j':  \n",
      "    MATCH (movie:Movie {title: \"Joker\"})-[:ACTED_IN]-(actors:Person)\n",
      "    MATCH (movie)-[:DIRECTED]-(director:Person)\n",
      "    RETURN DISTINCT movie.title AS movie, COUNT(actors) AS number_of_actors, director.name AS director\n",
      "    \n"
     ]
    },
    {
     "data": {
      "text/plain": [
       "{}"
      ]
     },
     "execution_count": 4,
     "metadata": {},
     "output_type": "execute_result"
    }
   ],
   "source": [
    "# Same query but remove 'OPTIONAL' from 'OPTIONAL MATCH'\n",
    "result = driver.execute_query(\n",
    "    \"\"\" \n",
    "    MATCH (movie:Movie {title: \"Joker\"})-[:ACTED_IN]-(actors:Person)\n",
    "    MATCH (movie)-[:DIRECTED]-(director:Person)\n",
    "    RETURN DISTINCT movie.title AS movie, COUNT(actors) AS number_of_actors, director.name AS director\n",
    "    \"\"\",\n",
    "    database_=\"neo4j\"\n",
    ")\n",
    "\n",
    "data = Neo4jParser.parse(result, True, False)\n",
    "data"
   ]
  },
  {
   "cell_type": "code",
   "execution_count": 5,
   "metadata": {},
   "outputs": [
    {
     "name": "stdout",
     "output_type": "stream",
     "text": [
      "Started streaming 1 records after 0 ms and completed after 0 ms.\n",
      "\n",
      "Query executed against database: 'neo4j':  \n",
      "    MATCH (movie:Movie {title: \"As Good as It Gets\"})-[:ACTED_IN]-(actors:Person)\n",
      "    MATCH (movie)-[:DIRECTED]-(director:Person)\n",
      "    RETURN DISTINCT movie.title AS movie, COUNT(actors) AS number_of_actors, director.name AS director\n",
      "    \n"
     ]
    },
    {
     "data": {
      "text/plain": [
       "{'movie': ['As Good as It Gets'],\n",
       " 'director': ['James L. Brooks'],\n",
       " 'number_of_actors': [4]}"
      ]
     },
     "execution_count": 5,
     "metadata": {},
     "output_type": "execute_result"
    }
   ],
   "source": [
    "# Same query but remove 'OPTIONAL' from 'OPTIONAL MATCH'\n",
    "result = driver.execute_query(\n",
    "    \"\"\" \n",
    "    MATCH (movie:Movie {title: \"As Good as It Gets\"})-[:ACTED_IN]-(actors:Person)\n",
    "    MATCH (movie)-[:DIRECTED]-(director:Person)\n",
    "    RETURN DISTINCT movie.title AS movie, COUNT(actors) AS number_of_actors, director.name AS director\n",
    "    \"\"\",\n",
    "    database_=\"neo4j\"\n",
    ")\n",
    "\n",
    "data = Neo4jParser.parse(result, True, False)\n",
    "data"
   ]
  },
  {
   "cell_type": "code",
   "execution_count": 6,
   "metadata": {},
   "outputs": [
    {
     "name": "stdout",
     "output_type": "stream",
     "text": [
      "Started streaming 200 records after 0 ms and completed after 9 ms.\n",
      "\n",
      "Query executed against database: 'neo4j':  \n",
      "    MATCH (movie:Movie)\n",
      "    OPTIONAL MATCH (actor:Person)-[:ACTED_IN]->(movie)\n",
      "    OPTIONAL MATCH (director:Person)-[:DIRECTED]->(movie)\n",
      "    WITH actor, director, movie\n",
      "    WHERE actor IS NOT NULL AND director IS NOT NULL\n",
      "    MERGE (actor)-[:FRIENDS_WITH]->(director)\n",
      "    RETURN actor.name, director.name, movie.title\n",
      "    \n"
     ]
    }
   ],
   "source": [
    "# Use optional match to create a new \"FRIENDS_WITH\" relationship between actors and directors of a movie\n",
    "result = driver.execute_query(\n",
    "    \"\"\" \n",
    "    MATCH (movie:Movie)\n",
    "    OPTIONAL MATCH (actor:Person)-[:ACTED_IN]->(movie)\n",
    "    OPTIONAL MATCH (director:Person)-[:DIRECTED]->(movie)\n",
    "    WITH actor, director, movie\n",
    "    WHERE actor IS NOT NULL AND director IS NOT NULL\n",
    "    MERGE (actor)-[:FRIENDS_WITH]->(director)\n",
    "    RETURN actor.name, director.name, movie.title\n",
    "    \"\"\",\n",
    "    database_=\"neo4j\"\n",
    ")\n",
    "\n",
    "data = Neo4jParser.parse(result, True, False)\n"
   ]
  },
  {
   "cell_type": "markdown",
   "metadata": {},
   "source": [
    "## `ORDER BY`"
   ]
  },
  {
   "cell_type": "markdown",
   "metadata": {},
   "source": [
    "* `ORDER BY` is a way to sort results from a query, just like how it is used in SQL.\n",
    "* `ORDER BY` can be used with `ASC` for 'ascending' and `DESC` or descending.\n",
    "    * For example, `... RETURN p.name, p.title ORDER BY p.name`. This will sort 'p.name' in ascending order.\n",
    "    * For example, `... RETURN p.name, COUNT(*) ORDER BY COUNT(*) DESC`. This will sort the count of 'p.name' descending.\n",
    "* Sorting by more than one object happens sequentially, in order."
   ]
  },
  {
   "cell_type": "code",
   "execution_count": null,
   "metadata": {},
   "outputs": [
    {
     "name": "stdout",
     "output_type": "stream",
     "text": [
      "Started streaming 40 records after 33 ms and completed after 33 ms.\n",
      "\n",
      "Query executed against database: 'neo4j':  \n",
      "    MATCH (movie:Movie)--(person:Person)\n",
      "    RETURN movie.title, COUNT(*) AS num_people ORDER BY num_people DESC\n",
      "    \n"
     ]
    },
    {
     "data": {
      "text/html": [
       "<div>\n",
       "<style scoped>\n",
       "    .dataframe tbody tr th:only-of-type {\n",
       "        vertical-align: middle;\n",
       "    }\n",
       "\n",
       "    .dataframe tbody tr th {\n",
       "        vertical-align: top;\n",
       "    }\n",
       "\n",
       "    .dataframe thead th {\n",
       "        text-align: right;\n",
       "    }\n",
       "</style>\n",
       "<table border=\"1\" class=\"dataframe\">\n",
       "  <thead>\n",
       "    <tr style=\"text-align: right;\">\n",
       "      <th></th>\n",
       "      <th>num_people</th>\n",
       "      <th>movie.title</th>\n",
       "    </tr>\n",
       "  </thead>\n",
       "  <tbody>\n",
       "    <tr>\n",
       "      <th>0</th>\n",
       "      <td>14</td>\n",
       "      <td>A Few Good Men</td>\n",
       "    </tr>\n",
       "    <tr>\n",
       "      <th>1</th>\n",
       "      <td>12</td>\n",
       "      <td>Jerry Maguire</td>\n",
       "    </tr>\n",
       "    <tr>\n",
       "      <th>2</th>\n",
       "      <td>12</td>\n",
       "      <td>Speed Racer</td>\n",
       "    </tr>\n",
       "    <tr>\n",
       "      <th>3</th>\n",
       "      <td>11</td>\n",
       "      <td>V for Vendetta</td>\n",
       "    </tr>\n",
       "    <tr>\n",
       "      <th>4</th>\n",
       "      <td>9</td>\n",
       "      <td>The Green Mile</td>\n",
       "    </tr>\n",
       "  </tbody>\n",
       "</table>\n",
       "</div>"
      ],
      "text/plain": [
       "   num_people     movie.title\n",
       "0          14  A Few Good Men\n",
       "1          12   Jerry Maguire\n",
       "2          12     Speed Racer\n",
       "3          11  V for Vendetta\n",
       "4           9  The Green Mile"
      ]
     },
     "execution_count": 10,
     "metadata": {},
     "output_type": "execute_result"
    }
   ],
   "source": [
    "# Return the number of people for each movie and sort by the count descending\n",
    "result = driver.execute_query(\n",
    "    \"\"\" \n",
    "    MATCH (movie:Movie)--(person:Person)\n",
    "    RETURN movie.title, COUNT(*) AS num_people ORDER BY num_people DESC\n",
    "    \"\"\",\n",
    "    database_=\"neo4j\"\n",
    ")\n",
    "\n",
    "data = Neo4jParser.parse(result, True, True)\n",
    "data.head()"
   ]
  },
  {
   "cell_type": "code",
   "execution_count": 12,
   "metadata": {},
   "outputs": [
    {
     "name": "stdout",
     "output_type": "stream",
     "text": [
      "Started streaming 241 records after 42 ms and completed after 42 ms.\n",
      "\n",
      "Query executed against database: 'neo4j':  \n",
      "    MATCH (movie:Movie)--(person:Person)\n",
      "    RETURN DISTINCT movie.title, person.name ORDER BY movie.title, person.name\n",
      "    \n"
     ]
    },
    {
     "data": {
      "text/html": [
       "<div>\n",
       "<style scoped>\n",
       "    .dataframe tbody tr th:only-of-type {\n",
       "        vertical-align: middle;\n",
       "    }\n",
       "\n",
       "    .dataframe tbody tr th {\n",
       "        vertical-align: top;\n",
       "    }\n",
       "\n",
       "    .dataframe thead th {\n",
       "        text-align: right;\n",
       "    }\n",
       "</style>\n",
       "<table border=\"1\" class=\"dataframe\">\n",
       "  <thead>\n",
       "    <tr style=\"text-align: right;\">\n",
       "      <th></th>\n",
       "      <th>movie.title</th>\n",
       "      <th>person.name</th>\n",
       "    </tr>\n",
       "  </thead>\n",
       "  <tbody>\n",
       "    <tr>\n",
       "      <th>0</th>\n",
       "      <td>A Few Good Men</td>\n",
       "      <td>Aaron Sorkin</td>\n",
       "    </tr>\n",
       "    <tr>\n",
       "      <th>1</th>\n",
       "      <td>A Few Good Men</td>\n",
       "      <td>Christopher Guest</td>\n",
       "    </tr>\n",
       "    <tr>\n",
       "      <th>2</th>\n",
       "      <td>A Few Good Men</td>\n",
       "      <td>Cuba Gooding Jr.</td>\n",
       "    </tr>\n",
       "    <tr>\n",
       "      <th>3</th>\n",
       "      <td>A Few Good Men</td>\n",
       "      <td>Demi Moore</td>\n",
       "    </tr>\n",
       "    <tr>\n",
       "      <th>4</th>\n",
       "      <td>A Few Good Men</td>\n",
       "      <td>J.T. Walsh</td>\n",
       "    </tr>\n",
       "  </tbody>\n",
       "</table>\n",
       "</div>"
      ],
      "text/plain": [
       "      movie.title        person.name\n",
       "0  A Few Good Men       Aaron Sorkin\n",
       "1  A Few Good Men  Christopher Guest\n",
       "2  A Few Good Men   Cuba Gooding Jr.\n",
       "3  A Few Good Men         Demi Moore\n",
       "4  A Few Good Men         J.T. Walsh"
      ]
     },
     "execution_count": 12,
     "metadata": {},
     "output_type": "execute_result"
    }
   ],
   "source": [
    "# Sort by two columns\n",
    "result = driver.execute_query(\n",
    "    \"\"\" \n",
    "    MATCH (movie:Movie)--(person:Person)\n",
    "    RETURN DISTINCT movie.title, person.name ORDER BY movie.title, person.name\n",
    "    \"\"\",\n",
    "    database_=\"neo4j\"\n",
    ")\n",
    "\n",
    "data = Neo4jParser.parse(result, True, True)\n",
    "data.head()"
   ]
  },
  {
   "cell_type": "code",
   "execution_count": null,
   "metadata": {},
   "outputs": [],
   "source": []
  }
 ],
 "metadata": {
  "kernelspec": {
   "display_name": "udemy_neo4j_course",
   "language": "python",
   "name": "python3"
  },
  "language_info": {
   "codemirror_mode": {
    "name": "ipython",
    "version": 3
   },
   "file_extension": ".py",
   "mimetype": "text/x-python",
   "name": "python",
   "nbconvert_exporter": "python",
   "pygments_lexer": "ipython3",
   "version": "3.12.7"
  }
 },
 "nbformat": 4,
 "nbformat_minor": 2
}
