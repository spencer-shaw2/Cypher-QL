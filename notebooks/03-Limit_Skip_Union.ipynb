{
 "cells": [
  {
   "cell_type": "markdown",
   "metadata": {},
   "source": [
    "# About\n",
    "\n",
    "This notebook will introduce the `LIMIT`, `SKIP`, and `UNION cypher keywords."
   ]
  },
  {
   "cell_type": "code",
   "execution_count": 1,
   "metadata": {},
   "outputs": [],
   "source": [
    "from neo4j import GraphDatabase, Record, ResultSummary, EagerResult\n",
    "from neo4j.time import Date\n",
    "\n",
    "import pandas as pd\n",
    "pd.set_option('display.max_colwidth', 100)\n",
    "\n",
    "import os \n",
    "import sys\n",
    "import socket\n",
    "from dotenv import load_dotenv \n",
    "load_dotenv()\n",
    "\n",
    "# Add the utils directory to sys.path\n",
    "sys.path.append(os.path.abspath(\"../utils\"))\n",
    "\n",
    "from Neo4jParser import Neo4jParser\n",
    "\n",
    "\n",
    "NEO4J_URI = os.getenv(\"NEO4J_URI\")\n",
    "NEO4J_USERNAME = os.getenv(\"NEO4J_USERNAME\")\n",
    "NEO4J_PASSWORD = os.getenv(\"NEO4J_PASSWORD\")\n",
    "\n",
    "driver = GraphDatabase.driver(NEO4J_URI, auth=(NEO4J_USERNAME, NEO4J_PASSWORD))"
   ]
  },
  {
   "cell_type": "markdown",
   "metadata": {},
   "source": [
    "## `LIMIT`"
   ]
  },
  {
   "cell_type": "markdown",
   "metadata": {},
   "source": [
    "* `LIMIT` will contrain the number of records returned to the user.\n",
    "* For example, `MATCH (p:Person) RETURN p.name LIMIT 25;` will only return the first 25 records.\n",
    "* `LIMIT` can also except expressions, as long as the result is an integer."
   ]
  },
  {
   "cell_type": "code",
   "execution_count": 8,
   "metadata": {},
   "outputs": [
    {
     "name": "stdout",
     "output_type": "stream",
     "text": [
      "Started streaming 139 records after 6 ms and completed after 8 ms.\n",
      "\n",
      "Query executed against database: 'neo4j':  \n",
      "    MATCH (p:Person) \n",
      "    RETURN p.name ORDER BY p.name;\n",
      "    \n"
     ]
    },
    {
     "data": {
      "text/plain": [
       "{'p.name': ['Aaron Sorkin',\n",
       "  'Al Pacino',\n",
       "  'Andy Wachowski',\n",
       "  'Angela Scope',\n",
       "  'Annabella Sciorra',\n",
       "  'Anthony Edwards',\n",
       "  'Audrey Tautou',\n",
       "  'Ben Miles',\n",
       "  'Bill Paxton',\n",
       "  'Bill Pullman',\n",
       "  'Billy Crystal',\n",
       "  'Bonnie Hunt',\n",
       "  'Brooke Langton',\n",
       "  'Bruno Kirby',\n",
       "  'Cameron Crowe',\n",
       "  'Carrie Fisher',\n",
       "  'Carrie-Anne Moss',\n",
       "  'Charlize Theron',\n",
       "  'Chris Columbus',\n",
       "  'Christian Bale',\n",
       "  'Christina Ricci',\n",
       "  'Christopher Guest',\n",
       "  'Clint Eastwood',\n",
       "  'Corey Feldman',\n",
       "  'Cuba Gooding Jr.',\n",
       "  'Danny DeVito',\n",
       "  'Dave Chappelle',\n",
       "  'David Morse',\n",
       "  'Demi Moore',\n",
       "  'Diane Keaton',\n",
       "  'Dina Meyer',\n",
       "  'Ed Harris',\n",
       "  'Emil Eifrem',\n",
       "  'Emile Hirsch',\n",
       "  'Ethan Hawke',\n",
       "  'Frank Darabont',\n",
       "  'Frank Langella',\n",
       "  'Gary Sinise',\n",
       "  'Geena Davis',\n",
       "  'Gene Hackman',\n",
       "  'Greg Kinnear',\n",
       "  'Halle Berry',\n",
       "  'Helen Hunt',\n",
       "  'Howard Deutch',\n",
       "  'Hugo Weaving',\n",
       "  'Ian McKellen',\n",
       "  'Ice-T',\n",
       "  'J.T. Walsh',\n",
       "  'Jack Nicholson',\n",
       "  'James Cromwell',\n",
       "  'James L. Brooks',\n",
       "  'James Marshall',\n",
       "  'James Thompson',\n",
       "  'Jan de Bont',\n",
       "  'Jay Mohr',\n",
       "  \"Jerry O'Connell\",\n",
       "  'Jessica Thompson',\n",
       "  'Jim Broadbent',\n",
       "  'Jim Cash',\n",
       "  'Joaquin Phoenix',\n",
       "  'Joel Silver',\n",
       "  'John C. Reilly',\n",
       "  'John Cusack',\n",
       "  'John Goodman',\n",
       "  'John Hurt',\n",
       "  'John Patrick Stanley',\n",
       "  'Jonathan Lipnicki',\n",
       "  'Julia Roberts',\n",
       "  'Kang-ho Song',\n",
       "  'Keanu Reeves',\n",
       "  'Kelly McGillis',\n",
       "  'Kelly Preston',\n",
       "  'Kevin Bacon',\n",
       "  'Kevin Pollak',\n",
       "  'Kiefer Sutherland',\n",
       "  'Lana Wachowski',\n",
       "  'Laurence Fishburne',\n",
       "  'Liv Tyler',\n",
       "  'Lori Petty',\n",
       "  'Madonna',\n",
       "  'Marshall Bell',\n",
       "  'Matthew Fox',\n",
       "  'Max von Sydow',\n",
       "  'Meg Ryan',\n",
       "  'Michael Clarke Duncan',\n",
       "  'Michael Sheen',\n",
       "  'Mike Nichols',\n",
       "  'Milos Forman',\n",
       "  'Nancy Meyers',\n",
       "  'Naomie Harris',\n",
       "  'Natalie Portman',\n",
       "  'Nathan Lane',\n",
       "  'Noah Wyle',\n",
       "  'Nora Ephron',\n",
       "  'Oliver Platt',\n",
       "  'Orlando Jones',\n",
       "  'Parker Posey',\n",
       "  'Patricia Clarkson',\n",
       "  'Paul Bettany',\n",
       "  'Paul Blythe',\n",
       "  'Penny Marshall',\n",
       "  'Philip Seymour Hoffman',\n",
       "  'Rain',\n",
       "  'Regina King',\n",
       "  'Renee Zellweger',\n",
       "  'Richard Harris',\n",
       "  'Rick Yune',\n",
       "  'Rita Wilson',\n",
       "  'River Phoenix',\n",
       "  'Rob Reiner',\n",
       "  'Robert De Niro',\n",
       "  'Robert Longo',\n",
       "  'Robert Zemeckis',\n",
       "  'Robin Williams',\n",
       "  'Ron Howard',\n",
       "  \"Rosie O'Donnell\",\n",
       "  'Sam Rockwell',\n",
       "  'Scott Hicks',\n",
       "  'So-dam Park',\n",
       "  'Stephen Rea',\n",
       "  'Steve Zahn',\n",
       "  'Sun-kyun Lee',\n",
       "  'Susan Sarandon',\n",
       "  'Takeshi Kitano',\n",
       "  'Taylor Hackford',\n",
       "  'Tom Cruise',\n",
       "  'Tom Hanks',\n",
       "  'Tom Skerritt',\n",
       "  'Tom Tykwer',\n",
       "  'Tony Scott',\n",
       "  'Val Kilmer',\n",
       "  'Victor Garber',\n",
       "  'Vincent Ward',\n",
       "  'Werner Herzog',\n",
       "  'Wil Wheaton',\n",
       "  'Woo-sik Choi',\n",
       "  'Yeo-jeong Jo',\n",
       "  'Zach Grenier',\n",
       "  'Zazie Beetz']}"
      ]
     },
     "execution_count": 8,
     "metadata": {},
     "output_type": "execute_result"
    }
   ],
   "source": [
    "# Let's find all nodes in the graph\n",
    "result = driver.execute_query(\n",
    "    \"\"\" \n",
    "    MATCH (p:Person) \n",
    "    RETURN p.name ORDER BY p.name;\n",
    "    \"\"\",\n",
    "    database_=\"neo4j\"\n",
    ")\n",
    "\n",
    "data = Neo4jParser.parse(result, True, False)\n",
    "data"
   ]
  },
  {
   "cell_type": "code",
   "execution_count": 9,
   "metadata": {},
   "outputs": [
    {
     "name": "stdout",
     "output_type": "stream",
     "text": [
      "Started streaming 5 records after 0 ms and completed after 0 ms.\n",
      "\n",
      "Query executed against database: 'neo4j':  \n",
      "    MATCH (p:Person) \n",
      "    RETURN p.name ORDER BY p.name LIMIT 5;\n",
      "    \n"
     ]
    },
    {
     "data": {
      "text/plain": [
       "{'p.name': ['Aaron Sorkin',\n",
       "  'Al Pacino',\n",
       "  'Andy Wachowski',\n",
       "  'Angela Scope',\n",
       "  'Annabella Sciorra']}"
      ]
     },
     "execution_count": 9,
     "metadata": {},
     "output_type": "execute_result"
    }
   ],
   "source": [
    "# Let's find all nodes in the graph, but limit to the first 25\n",
    "result = driver.execute_query(\n",
    "    \"\"\" \n",
    "    MATCH (p:Person) \n",
    "    RETURN p.name ORDER BY p.name LIMIT 5;\n",
    "    \"\"\",\n",
    "    database_=\"neo4j\"\n",
    ")\n",
    "\n",
    "data = Neo4jParser.parse(result, True, False)\n",
    "data"
   ]
  },
  {
   "cell_type": "code",
   "execution_count": 11,
   "metadata": {},
   "outputs": [
    {
     "name": "stdout",
     "output_type": "stream",
     "text": [
      "Started streaming 3 records after 32 ms and completed after 32 ms.\n",
      "\n",
      "Query executed against database: 'neo4j':  \n",
      "    MATCH (p:Person) \n",
      "    RETURN p.name ORDER BY p.name LIMIT toInteger(floor(3.3));\n",
      "    \n"
     ]
    },
    {
     "data": {
      "text/plain": [
       "{'p.name': ['Aaron Sorkin', 'Al Pacino', 'Andy Wachowski']}"
      ]
     },
     "execution_count": 11,
     "metadata": {},
     "output_type": "execute_result"
    }
   ],
   "source": [
    "# Let's find all nodes in the graph, but limit with an expression\n",
    "result = driver.execute_query(\n",
    "    \"\"\" \n",
    "    MATCH (p:Person) \n",
    "    RETURN p.name ORDER BY p.name LIMIT toInteger(floor(3.3));\n",
    "    \"\"\",\n",
    "    database_=\"neo4j\"\n",
    ")\n",
    "\n",
    "data = Neo4jParser.parse(result, True, False)\n",
    "data"
   ]
  },
  {
   "cell_type": "code",
   "execution_count": 13,
   "metadata": {},
   "outputs": [
    {
     "name": "stdout",
     "output_type": "stream",
     "text": [
      "Started streaming 0 records after 22 ms and completed after 30 ms.\n",
      "\n",
      "Query executed against database: 'dev':  \n",
      "    CREATE (n {id:\"test123abc\"}) RETURN n LIMIT 0;\n",
      "    \n"
     ]
    },
    {
     "data": {
      "text/plain": [
       "{}"
      ]
     },
     "execution_count": 13,
     "metadata": {},
     "output_type": "execute_result"
    }
   ],
   "source": [
    "# Let's create a node but return with a limit of 0\n",
    "result = driver.execute_query(\n",
    "    \"\"\" \n",
    "    CREATE (n {id:\"test123abc\"}) RETURN n LIMIT 0;\n",
    "    \"\"\",\n",
    "    database_=\"dev\"\n",
    ")\n",
    "\n",
    "data = Neo4jParser.parse(result, True, False)\n",
    "data"
   ]
  },
  {
   "cell_type": "markdown",
   "metadata": {},
   "source": [
    "**NOTE:** What the query above is saying, is create a new node n, but I don't want to see it. Just create it. Now we can run a query below to match for it and find what we just created."
   ]
  },
  {
   "cell_type": "code",
   "execution_count": 14,
   "metadata": {},
   "outputs": [
    {
     "name": "stdout",
     "output_type": "stream",
     "text": [
      "Started streaming 1 records after 12 ms and completed after 13 ms.\n",
      "\n",
      "Query executed against database: 'dev':  \n",
      "    MATCH (n {id:\"test123abc\"}) RETURN n;\n",
      "    \n"
     ]
    },
    {
     "data": {
      "text/plain": [
       "{'n': [{'elementId': '4:ff73e06d-56ad-4959-b409-fcc3d9dce978:1',\n",
       "   'labels': frozenset(),\n",
       "   'properties': {'id': 'test123abc'}}]}"
      ]
     },
     "execution_count": 14,
     "metadata": {},
     "output_type": "execute_result"
    }
   ],
   "source": [
    "# Let's create a node but return with a limit of 0\n",
    "result = driver.execute_query(\n",
    "    \"\"\" \n",
    "    MATCH (n {id:\"test123abc\"}) RETURN n;\n",
    "    \"\"\",\n",
    "    database_=\"dev\"\n",
    ")\n",
    "\n",
    "data = Neo4jParser.parse(result, True, False)\n",
    "data"
   ]
  },
  {
   "cell_type": "markdown",
   "metadata": {},
   "source": [
    "## `SKIP`"
   ]
  },
  {
   "cell_type": "markdown",
   "metadata": {},
   "source": [
    "* `SKIP` will tell Neo4j the row to start from. Where `LIMIT` returns the first *x* records, `SKIP` tells Neo4j to ignore the first *x* records.\n",
    "* `SKIP` and limit can be combined to 'skip' the first *x* records and then return the next *y* through `LIMIT`.\n",
    "    * **IMPORTANT** To avoid a syntax error, `SKIP` comes before `LIMIT` after the `RETURN` clause.\n",
    "* Just like `LIMIT`, `SKIP` can also accept expressions as long as the result of the expression is an integer."
   ]
  },
  {
   "cell_type": "code",
   "execution_count": 21,
   "metadata": {},
   "outputs": [
    {
     "name": "stdout",
     "output_type": "stream",
     "text": [
      "Started streaming 39 records after 0 ms and completed after 1 ms.\n",
      "\n",
      "Query executed against database: 'neo4j':  \n",
      "    MATCH (p:Person) RETURN p.name ORDER BY p.name SKIP 100;\n",
      "    \n"
     ]
    },
    {
     "data": {
      "text/plain": [
       "{'p.name': ['Penny Marshall',\n",
       "  'Philip Seymour Hoffman',\n",
       "  'Rain',\n",
       "  'Regina King',\n",
       "  'Renee Zellweger',\n",
       "  'Richard Harris',\n",
       "  'Rick Yune',\n",
       "  'Rita Wilson',\n",
       "  'River Phoenix',\n",
       "  'Rob Reiner',\n",
       "  'Robert De Niro',\n",
       "  'Robert Longo',\n",
       "  'Robert Zemeckis',\n",
       "  'Robin Williams',\n",
       "  'Ron Howard',\n",
       "  \"Rosie O'Donnell\",\n",
       "  'Sam Rockwell',\n",
       "  'Scott Hicks',\n",
       "  'So-dam Park',\n",
       "  'Stephen Rea',\n",
       "  'Steve Zahn',\n",
       "  'Sun-kyun Lee',\n",
       "  'Susan Sarandon',\n",
       "  'Takeshi Kitano',\n",
       "  'Taylor Hackford',\n",
       "  'Tom Cruise',\n",
       "  'Tom Hanks',\n",
       "  'Tom Skerritt',\n",
       "  'Tom Tykwer',\n",
       "  'Tony Scott',\n",
       "  'Val Kilmer',\n",
       "  'Victor Garber',\n",
       "  'Vincent Ward',\n",
       "  'Werner Herzog',\n",
       "  'Wil Wheaton',\n",
       "  'Woo-sik Choi',\n",
       "  'Yeo-jeong Jo',\n",
       "  'Zach Grenier',\n",
       "  'Zazie Beetz']}"
      ]
     },
     "execution_count": 21,
     "metadata": {},
     "output_type": "execute_result"
    }
   ],
   "source": [
    "# Let's return the names of people in alphabeutical order, but skip the first 100 names\n",
    "result = driver.execute_query(\n",
    "    \"\"\" \n",
    "    MATCH (p:Person) RETURN p.name ORDER BY p.name SKIP 100;\n",
    "    \"\"\",\n",
    "    database_=\"neo4j\"\n",
    ")\n",
    "\n",
    "data = Neo4jParser.parse(result, True, False)\n",
    "data"
   ]
  },
  {
   "cell_type": "code",
   "execution_count": 22,
   "metadata": {},
   "outputs": [
    {
     "name": "stdout",
     "output_type": "stream",
     "text": [
      "Started streaming 5 records after 0 ms and completed after 2 ms.\n",
      "\n",
      "Query executed against database: 'neo4j':  \n",
      "    MATCH (p:Person) RETURN p.name ORDER BY p.name SKIP 100 LIMIT 5;\n",
      "    \n"
     ]
    },
    {
     "data": {
      "text/plain": [
       "{'p.name': ['Penny Marshall',\n",
       "  'Philip Seymour Hoffman',\n",
       "  'Rain',\n",
       "  'Regina King',\n",
       "  'Renee Zellweger']}"
      ]
     },
     "execution_count": 22,
     "metadata": {},
     "output_type": "execute_result"
    }
   ],
   "source": [
    "# Let's return the first 5 names of people in alphabeutical order, after skipping the first 100 names\n",
    "result = driver.execute_query(\n",
    "    \"\"\" \n",
    "    MATCH (p:Person) RETURN p.name ORDER BY p.name SKIP 100 LIMIT 5;\n",
    "    \"\"\",\n",
    "    database_=\"neo4j\"\n",
    ")\n",
    "\n",
    "data = Neo4jParser.parse(result, True, False)\n",
    "data"
   ]
  },
  {
   "cell_type": "code",
   "execution_count": 23,
   "metadata": {},
   "outputs": [
    {
     "name": "stdout",
     "output_type": "stream",
     "text": [
      "Started streaming 5 records after 18 ms and completed after 18 ms.\n",
      "\n",
      "Query executed against database: 'neo4j':  \n",
      "    MATCH (p:Person) RETURN p.name ORDER BY p.name SKIP 10*10 LIMIT 2+3;\n",
      "    \n"
     ]
    },
    {
     "data": {
      "text/plain": [
       "{'p.name': ['Penny Marshall',\n",
       "  'Philip Seymour Hoffman',\n",
       "  'Rain',\n",
       "  'Regina King',\n",
       "  'Renee Zellweger']}"
      ]
     },
     "execution_count": 23,
     "metadata": {},
     "output_type": "execute_result"
    }
   ],
   "source": [
    "# Let's return the first 5 names of people in alphabeutical order, after skipping the first 100 names\n",
    "result = driver.execute_query(\n",
    "    \"\"\" \n",
    "    MATCH (p:Person) RETURN p.name ORDER BY p.name SKIP 10*10 LIMIT 2+3;\n",
    "    \"\"\",\n",
    "    database_=\"neo4j\"\n",
    ")\n",
    "\n",
    "data = Neo4jParser.parse(result, True, False)\n",
    "data"
   ]
  },
  {
   "cell_type": "markdown",
   "metadata": {},
   "source": [
    "## `UNION`"
   ]
  },
  {
   "cell_type": "markdown",
   "metadata": {},
   "source": [
    "* `UNION` can be used to combine the results of multiple queries, removing duplicates. Works very similar to SQL's `UNION` and `UNION ALL`.\n",
    "* When returning results in a query with `UNION`, the results need to have the same alias. \n",
    "    * For example: <br>\n",
    "        `MATCH (m:Movie)`<br>\n",
    "        `RETURN m.title AS custom_field LIMIT 2`<br>\n",
    "        `UNION`<br>\n",
    "        `MATCH (p:Person)`<br>\n",
    "        `RETURN p.name AS custom_field LIMIT 2;`<br>\n",
    "* `UNION ALL` will return all records, including duplicates."
   ]
  },
  {
   "cell_type": "code",
   "execution_count": 25,
   "metadata": {},
   "outputs": [
    {
     "name": "stdout",
     "output_type": "stream",
     "text": [
      "Started streaming 4 records after 66 ms and completed after 66 ms.\n",
      "\n",
      "Query executed against database: 'neo4j':  \n",
      "    MATCH (m:Movie)\n",
      "    RETURN m.title AS custom_field LIMIT 2\n",
      "    UNION\n",
      "    MATCH (p:Person) \n",
      "    RETURN p.name AS custom_field LIMIT 2;\n",
      "    \n"
     ]
    },
    {
     "data": {
      "text/plain": [
       "{'custom_field': ['The Matrix',\n",
       "  'The Matrix Reloaded',\n",
       "  'Keanu Reeves',\n",
       "  'Carrie-Anne Moss']}"
      ]
     },
     "execution_count": 25,
     "metadata": {},
     "output_type": "execute_result"
    }
   ],
   "source": [
    "# Combine movie titles and people names in the same result\n",
    "result = driver.execute_query(\n",
    "    \"\"\" \n",
    "    MATCH (m:Movie)\n",
    "    RETURN m.title AS custom_field LIMIT 2\n",
    "    UNION\n",
    "    MATCH (p:Person) \n",
    "    RETURN p.name AS custom_field LIMIT 2;\n",
    "    \"\"\",\n",
    "    database_=\"neo4j\"\n",
    ")\n",
    "\n",
    "data = Neo4jParser.parse(result, True, False)\n",
    "data"
   ]
  },
  {
   "cell_type": "code",
   "execution_count": 26,
   "metadata": {},
   "outputs": [
    {
     "name": "stdout",
     "output_type": "stream",
     "text": [
      "Started streaming 4 records after 52 ms and completed after 52 ms.\n",
      "\n",
      "Query executed against database: 'neo4j':  \n",
      "    MATCH (m:Movie)\n",
      "    RETURN m.title AS custom_field LIMIT 2\n",
      "    UNION ALL\n",
      "    MATCH (p:Person) \n",
      "    RETURN p.name AS custom_field LIMIT 2;\n",
      "    \n"
     ]
    },
    {
     "data": {
      "text/plain": [
       "{'custom_field': ['The Matrix',\n",
       "  'The Matrix Reloaded',\n",
       "  'Keanu Reeves',\n",
       "  'Carrie-Anne Moss']}"
      ]
     },
     "execution_count": 26,
     "metadata": {},
     "output_type": "execute_result"
    }
   ],
   "source": [
    "# Combine movie titles and people names in the same result, keeping all records\n",
    "result = driver.execute_query(\n",
    "    \"\"\" \n",
    "    MATCH (m:Movie)\n",
    "    RETURN m.title AS custom_field LIMIT 2\n",
    "    UNION ALL\n",
    "    MATCH (p:Person) \n",
    "    RETURN p.name AS custom_field LIMIT 2;\n",
    "    \"\"\",\n",
    "    database_=\"neo4j\"\n",
    ")\n",
    "\n",
    "data = Neo4jParser.parse(result, True, False)\n",
    "data"
   ]
  },
  {
   "cell_type": "code",
   "execution_count": null,
   "metadata": {},
   "outputs": [],
   "source": []
  }
 ],
 "metadata": {
  "kernelspec": {
   "display_name": "udemy_neo4j_course",
   "language": "python",
   "name": "python3"
  },
  "language_info": {
   "codemirror_mode": {
    "name": "ipython",
    "version": 3
   },
   "file_extension": ".py",
   "mimetype": "text/x-python",
   "name": "python",
   "nbconvert_exporter": "python",
   "pygments_lexer": "ipython3",
   "version": "3.12.7"
  }
 },
 "nbformat": 4,
 "nbformat_minor": 2
}
