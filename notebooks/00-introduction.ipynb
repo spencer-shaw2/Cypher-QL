{
 "cells": [
  {
   "cell_type": "markdown",
   "metadata": {},
   "source": [
    "# Start Here\n",
    "___________________________________________________________________________________________________________________________________________________________________________________________________\n",
    "\n",
    "This notebook will focus on interacting with a Neo4j database from Python focusing on the `CREATE` cypher keyword. The downside to this, it's hard to visualize some of the queries being ran. It's highly encourage to switch between the notebook and your local Neo4j Desktop database.\n",
    "\n",
    "To download Neo4j Desktop, follow the instructions [here.](https://neo4j.com/download/)\n",
    "\n",
    "\n",
    "🛑 **IMPORTANT**\n",
    "\n",
    "In the \"./utils\" directory is a helper file `Neo4jParser.py`. I've gone ahead and wrote some code in assisting with parsing the results of queries returned from Neo4j. According to Neo4j's [documentation](https://neo4j.com/docs/api/python-driver/current/api.html#), there are several methods to parse an `EagerResult`. Please go to the utils directory and open `Neo4jParser.py` to understand the functions available.\n",
    "> If you are newer to Python, or only looking for the data behind your queries, use: `Neo4jParser.simple_parse()`. Please be aware that the `neo4j.Record.data()` method will look different from the results you see in Neo4j Browser. For this reason, it's encouraged to use `Neo4jParser.parse()`.\n",
    "\n",
    "> For an all encompassing view of the data and to match a format more similar to what you will see from the Neo4j Browser, use: `Neo4jParser.parse()`. This is the recommended approach and the one that will be used throughout this series.\n",
    "\n",
    "\n",
    "⚠️ **NOTICE**\n",
    "\n",
    "**If working from WSL...**\n",
    "\n",
    "When working from WSL2 and Neo4j Desktop is installed on the Windows side, you have to set up port forwarding. To do this, open a Powershell administrator window and run the following:\n",
    "1. Start the default Neo4j Desktop database \"Movies DBMS\".\n",
    "2. Run `ipconfig` to fetch your machine's IP address\n",
    "    * From this point forward assume you have a Windows ip address of: '123.456.78.900'\n",
    "3. Run `netsh interface portproxy set v4tov4 listenport=7687 listenaddress=123.456.78.900 connectport=7687 connectaddress=127.0.0.1`\n",
    "    * NOTE: The 'listenport' and 'connectport' should be the same port your Neo4j database is running on.\n",
    "4. To verify, run `netsh interface portproxy show v4tov4`\n",
    "5. To disable the port forwarding, run `netsh interface portproxy delete v4tov4 listenport=1234 listenaddress=123.456.78.900`\n",
    "\n",
    "If working from a windows/mac environment where Neo4j Desktop is installed, the default 'localhost' URI should be sufficient."
   ]
  },
  {
   "cell_type": "markdown",
   "metadata": {},
   "source": [
    "## `CREATE`"
   ]
  },
  {
   "cell_type": "markdown",
   "metadata": {},
   "source": [
    "`CREATE` -> Used to create nodes in a graph.\n",
    "* **Creating Nodes**\n",
    "    * **WARNING:** Although this section is focused on using `CREATE`, it does have the ability to generate duplicate nodes. For example, `CREATE (n:Person {id: 1}) RETURN n;` will generate a new 'Person' node with property: '{id: 1}' as many times as the query is executed. However, swapping `CREATE` for `MERGE` will prevent duplicates from appearing in the graph.\n",
    "        * It is better practice to use `MERGE` over `CREATE`\n",
    "    * Create a node with single labels by using: `MERGE (n:Person) RETURN n`. Specify multiple labels like `MERGE (n:Person:Animal:Professional) RETURN n`\n",
    "    * Create a node with properties inside curly brackets like so: `MERGE (n:Person {name: \"Henry\", age: 17}) RETURN n`\n",
    "\n",
    "* **Creating Relationships**\n",
    "    * This is best illustrated through an example. Let's say Sally goes to the store to buy some pickles. To represent this graphically, first create two nodes for entities Sally (person) and pickles (food). The action or relationship between the two is the act of purchasing. So, in cypher we would write:\n",
    "        > `CREATE (p:Person {name: \"Sally\"}), (f:Food {item: \"Pickles\"}), (p)-[:PURCHASES]->(f) RETURN p, f;`\n",
    "\n",
    "        > `MERGE (p:Person {name: \"Sally\"})`<br>\n",
    "          `MERGE (f:Food {item: \"Pickles\"})`<br>\n",
    "          `MERGE (p)-[:PURCHASES]->(f)`<br>\n",
    "          `RETURN p, f;`<br>\n",
    "\n",
    "`RETURN` -> Instructed the graph to send back data from the graph based on what follows the 'RETURN' keyword.\n",
    "* `RETURN *` will return all variables and properties from the query."
   ]
  },
  {
   "cell_type": "code",
   "execution_count": 1,
   "metadata": {},
   "outputs": [],
   "source": [
    "from neo4j import GraphDatabase, Record, ResultSummary, EagerResult\n",
    "from neo4j.time import Date\n",
    "\n",
    "import pandas as pd\n",
    "pd.set_option('display.max_colwidth', 100)\n",
    "\n",
    "import os \n",
    "import sys\n",
    "import socket\n",
    "from dotenv import load_dotenv \n",
    "load_dotenv()\n",
    "\n",
    "# Add the utils directory to sys.path\n",
    "sys.path.append(os.path.abspath(\"../utils\"))\n",
    "\n",
    "from Neo4jParser import Neo4jParser\n",
    "\n",
    "NEO4J_URI = os.getenv(\"NEO4J_URI\")\n",
    "NEO4J_USERNAME = os.getenv(\"NEO4J_USERNAME\")\n",
    "NEO4J_PASSWORD = os.getenv(\"NEO4J_PASSWORD\")\n",
    "\n",
    "driver = GraphDatabase.driver(NEO4J_URI, auth=(NEO4J_USERNAME, NEO4J_PASSWORD))"
   ]
  },
  {
   "cell_type": "code",
   "execution_count": 2,
   "metadata": {},
   "outputs": [
    {
     "data": {
      "text/plain": [
       "EagerResult(records=[], summary=<neo4j._work.summary.ResultSummary object at 0x7fab99760950>, keys=[])"
      ]
     },
     "execution_count": 2,
     "metadata": {},
     "output_type": "execute_result"
    }
   ],
   "source": [
    "# We are going to create a dev database so that we can do whatever we want in it\n",
    "driver.execute_query(\"CREATE DATABASE dev IF NOT EXISTS;\")"
   ]
  },
  {
   "cell_type": "markdown",
   "metadata": {},
   "source": [
    "What the heck is an ['EagerResult'](https://neo4j.com/docs/api/python-driver/current/api.html#neo4j.EagerResult)?"
   ]
  },
  {
   "cell_type": "code",
   "execution_count": 3,
   "metadata": {},
   "outputs": [],
   "source": [
    "# Let's create 5 nodes \n",
    "for _ in range(5):\n",
    "    result: EagerResult[list[Record], ResultSummary, list[str]] = driver.execute_query(\n",
    "        \"\"\" \n",
    "        CREATE (n) RETURN n;\n",
    "        \"\"\",\n",
    "        database_=\"dev\"\n",
    "    )"
   ]
  },
  {
   "cell_type": "markdown",
   "metadata": {},
   "source": [
    "**NOTE:**\n",
    "\n",
    "To keep things clean, I'll only annotate the 'result' variable once. Clearly the response returned from Neo4j is a pretty complex object that holds a ton of useful information. I would encourage you to explore their documentation and modify the `Neo4jParser.parse` function to provide you with information that is the most helpful to you!"
   ]
  },
  {
   "cell_type": "code",
   "execution_count": 5,
   "metadata": {},
   "outputs": [
    {
     "name": "stdout",
     "output_type": "stream",
     "text": [
      "Started streaming 21 records after 1 ms and completed after 3 ms.\n",
      "\n",
      "Query executed against database: 'dev':  \n",
      "    MATCH (n) RETURN n;\n",
      "    \n"
     ]
    },
    {
     "data": {
      "text/html": [
       "<div>\n",
       "<style scoped>\n",
       "    .dataframe tbody tr th:only-of-type {\n",
       "        vertical-align: middle;\n",
       "    }\n",
       "\n",
       "    .dataframe tbody tr th {\n",
       "        vertical-align: top;\n",
       "    }\n",
       "\n",
       "    .dataframe thead th {\n",
       "        text-align: right;\n",
       "    }\n",
       "</style>\n",
       "<table border=\"1\" class=\"dataframe\">\n",
       "  <thead>\n",
       "    <tr style=\"text-align: right;\">\n",
       "      <th></th>\n",
       "      <th>n</th>\n",
       "    </tr>\n",
       "  </thead>\n",
       "  <tbody>\n",
       "    <tr>\n",
       "      <th>0</th>\n",
       "      <td>{'elementId': '4:ff73e06d-56ad-4959-b409-fcc3d9dce978:30', 'labels': ('Person'), 'properties': {...</td>\n",
       "    </tr>\n",
       "    <tr>\n",
       "      <th>1</th>\n",
       "      <td>{'elementId': '4:ff73e06d-56ad-4959-b409-fcc3d9dce978:31', 'labels': ('Food'), 'properties': {'i...</td>\n",
       "    </tr>\n",
       "    <tr>\n",
       "      <th>2</th>\n",
       "      <td>{'elementId': '4:ff73e06d-56ad-4959-b409-fcc3d9dce978:32', 'labels': ('Person'), 'properties': {...</td>\n",
       "    </tr>\n",
       "    <tr>\n",
       "      <th>3</th>\n",
       "      <td>{'elementId': '4:ff73e06d-56ad-4959-b409-fcc3d9dce978:33', 'labels': ('Food'), 'properties': {'i...</td>\n",
       "    </tr>\n",
       "    <tr>\n",
       "      <th>4</th>\n",
       "      <td>{'elementId': '4:ff73e06d-56ad-4959-b409-fcc3d9dce978:34', 'labels': ('Person'), 'properties': {...</td>\n",
       "    </tr>\n",
       "  </tbody>\n",
       "</table>\n",
       "</div>"
      ],
      "text/plain": [
       "                                                                                                     n\n",
       "0  {'elementId': '4:ff73e06d-56ad-4959-b409-fcc3d9dce978:30', 'labels': ('Person'), 'properties': {...\n",
       "1  {'elementId': '4:ff73e06d-56ad-4959-b409-fcc3d9dce978:31', 'labels': ('Food'), 'properties': {'i...\n",
       "2  {'elementId': '4:ff73e06d-56ad-4959-b409-fcc3d9dce978:32', 'labels': ('Person'), 'properties': {...\n",
       "3  {'elementId': '4:ff73e06d-56ad-4959-b409-fcc3d9dce978:33', 'labels': ('Food'), 'properties': {'i...\n",
       "4  {'elementId': '4:ff73e06d-56ad-4959-b409-fcc3d9dce978:34', 'labels': ('Person'), 'properties': {..."
      ]
     },
     "execution_count": 5,
     "metadata": {},
     "output_type": "execute_result"
    }
   ],
   "source": [
    "# Let's see how many nodes are in our graph\n",
    "result: EagerResult[list[Record], ResultSummary, list[str]] = driver.execute_query(\n",
    "    \"\"\" \n",
    "    MATCH (n) RETURN n;\n",
    "    \"\"\",\n",
    "    database_=\"dev\"\n",
    ")\n",
    "\n",
    "df = Neo4jParser.parse(result, True)\n",
    "df.head()"
   ]
  },
  {
   "cell_type": "markdown",
   "metadata": {},
   "source": [
    "**NOTE:**\n",
    "\n",
    "Notice how `CREATE` made 5 copies of the same node."
   ]
  },
  {
   "cell_type": "code",
   "execution_count": 6,
   "metadata": {},
   "outputs": [
    {
     "name": "stdout",
     "output_type": "stream",
     "text": [
      "Started streaming 1 records after 16 ms and completed after 17 ms.\n",
      "\n",
      "Query executed against database: 'dev':  \n",
      "    CREATE (p:Person {name: \"Sally\"})\n",
      "    RETURN p\n",
      "    \n"
     ]
    },
    {
     "data": {
      "text/html": [
       "<div>\n",
       "<style scoped>\n",
       "    .dataframe tbody tr th:only-of-type {\n",
       "        vertical-align: middle;\n",
       "    }\n",
       "\n",
       "    .dataframe tbody tr th {\n",
       "        vertical-align: top;\n",
       "    }\n",
       "\n",
       "    .dataframe thead th {\n",
       "        text-align: right;\n",
       "    }\n",
       "</style>\n",
       "<table border=\"1\" class=\"dataframe\">\n",
       "  <thead>\n",
       "    <tr style=\"text-align: right;\">\n",
       "      <th></th>\n",
       "      <th>p</th>\n",
       "    </tr>\n",
       "  </thead>\n",
       "  <tbody>\n",
       "    <tr>\n",
       "      <th>0</th>\n",
       "      <td>{'elementId': '4:ff73e06d-56ad-4959-b409-fcc3d9dce978:29', 'labels': ('Person'), 'properties': {...</td>\n",
       "    </tr>\n",
       "  </tbody>\n",
       "</table>\n",
       "</div>"
      ],
      "text/plain": [
       "                                                                                                     p\n",
       "0  {'elementId': '4:ff73e06d-56ad-4959-b409-fcc3d9dce978:29', 'labels': ('Person'), 'properties': {..."
      ]
     },
     "execution_count": 6,
     "metadata": {},
     "output_type": "execute_result"
    }
   ],
   "source": [
    "# Let's create a person in our graph named Sally\n",
    "result = driver.execute_query(\n",
    "    \"\"\" \n",
    "    CREATE (p:Person {name: \"Sally\"})\n",
    "    RETURN p\n",
    "    \"\"\",\n",
    "    database_=\"dev\"\n",
    ")\n",
    "\n",
    "df = Neo4jParser.parse(result, True)\n",
    "\n",
    "# Let's take a look at how our record is represented in python\n",
    "df.head()"
   ]
  },
  {
   "cell_type": "code",
   "execution_count": 7,
   "metadata": {},
   "outputs": [
    {
     "name": "stdout",
     "output_type": "stream",
     "text": [
      "Started streaming 0 records after 18 ms and completed after 18 ms.\n",
      "\n",
      "Query executed against database: 'dev':  \n",
      "    MATCH (n) DETACH DELETE n;\n",
      "    \n"
     ]
    }
   ],
   "source": [
    "# Let's delete all records in Neo4j\n",
    "result = driver.execute_query(\n",
    "    \"\"\" \n",
    "    MATCH (n) DETACH DELETE n;\n",
    "    \"\"\",\n",
    "    database_=\"dev\"\n",
    ")\n",
    "\n",
    "df = Neo4jParser.parse(result, True)"
   ]
  },
  {
   "cell_type": "code",
   "execution_count": 8,
   "metadata": {},
   "outputs": [
    {
     "name": "stdout",
     "output_type": "stream",
     "text": [
      "Started streaming 1 records after 1 ms and completed after 2 ms.\n",
      "\n",
      "Query executed against database: 'dev':  \n",
      "    CREATE (p:Person {name: \"Sally\"}), (f:Food {item: \"Pickles\"}), (p)-[r:PURCHASES]->(f) RETURN *;\n",
      "    \n"
     ]
    },
    {
     "data": {
      "text/plain": [
       "{'r': [{'startNode': {'elementId': '4:ff73e06d-56ad-4959-b409-fcc3d9dce978:30',\n",
       "    'labels': frozenset({'Person'}),\n",
       "    'properties': {'name': 'Sally'}},\n",
       "   'elementId': '5:ff73e06d-56ad-4959-b409-fcc3d9dce978:1152921504606847006',\n",
       "   'type': 'PURCHASES',\n",
       "   'properties': {},\n",
       "   'endNode': {'elementId': '4:ff73e06d-56ad-4959-b409-fcc3d9dce978:31',\n",
       "    'labels': frozenset({'Food'}),\n",
       "    'properties': {'item': 'Pickles'}}}],\n",
       " 'p': [{'elementId': '4:ff73e06d-56ad-4959-b409-fcc3d9dce978:30',\n",
       "   'labels': frozenset({'Person'}),\n",
       "   'properties': {'name': 'Sally'}}],\n",
       " 'f': [{'elementId': '4:ff73e06d-56ad-4959-b409-fcc3d9dce978:31',\n",
       "   'labels': frozenset({'Food'}),\n",
       "   'properties': {'item': 'Pickles'}}]}"
      ]
     },
     "execution_count": 8,
     "metadata": {},
     "output_type": "execute_result"
    }
   ],
   "source": [
    "# Let's create a relationship with one direction to represent the scenario \"Sally goes to the store and purchases pickles\"\n",
    "result = driver.execute_query(\n",
    "    \"\"\" \n",
    "    CREATE (p:Person {name: \"Sally\"}), (f:Food {item: \"Pickles\"}), (p)-[r:PURCHASES]->(f) RETURN *;\n",
    "    \"\"\",\n",
    "    database_=\"dev\"\n",
    ")\n",
    "\n",
    "df = Neo4jParser.parse(result, True, False)\n",
    "df"
   ]
  },
  {
   "cell_type": "code",
   "execution_count": 9,
   "metadata": {},
   "outputs": [
    {
     "name": "stdout",
     "output_type": "stream",
     "text": [
      "Started streaming 1 records after 0 ms and completed after 0 ms.\n",
      "\n",
      "Query executed against database: 'dev':  \n",
      "    CREATE (p:Person {name: \"Sally\"}), (f:Food {item: \"Pickles\"}), (p)-[r:PURCHASES {purchased_on: $purchase_date}]->(f) RETURN *;\n",
      "    \n"
     ]
    }
   ],
   "source": [
    "# Add a date property to our relationship for event or transactional data\n",
    "purchase_date = Date(year=2025, month=1, day=31)\n",
    "\n",
    "result = driver.execute_query(\n",
    "    \"\"\" \n",
    "    CREATE (p:Person {name: \"Sally\"}), (f:Food {item: \"Pickles\"}), (p)-[r:PURCHASES {purchased_on: $purchase_date}]->(f) RETURN *;\n",
    "    \"\"\",\n",
    "    database_=\"dev\",\n",
    "    purchase_date=purchase_date\n",
    ")\n",
    "\n",
    "df = Neo4jParser.parse(result, True)"
   ]
  },
  {
   "cell_type": "markdown",
   "metadata": {},
   "source": [
    "**NOTE:**\n",
    "\n",
    "Notice the additional argument in the `driver.execute_query` function. Neo4j lets you parametize queries for a number of reasons. In this case, we are defining a variable using a Neo4j datatype so we know it will insert into the graph the way we expect. Parametize queries by prefixing the variable with \"$\". Check out the datatypes for the Neo4j python driver [here](https://neo4j.com/docs/python-manual/current/data-types/)!"
   ]
  },
  {
   "cell_type": "code",
   "execution_count": 10,
   "metadata": {},
   "outputs": [
    {
     "name": "stdout",
     "output_type": "stream",
     "text": [
      "Started streaming 2 records after 1 ms and completed after 2 ms.\n",
      "\n",
      "Query executed against database: 'dev':  \n",
      "    MATCH (p:Person {name: \"Sally\"}), (f:Person {name: \"Sarah\"})\n",
      "    WITH p, f\n",
      "    CREATE (p)-[r:HAS_FRIEND]->(f)-[rr:HAS_FRIEND]->(p)\n",
      "    RETURN *;\n",
      "    \n"
     ]
    },
    {
     "data": {
      "text/html": [
       "<div>\n",
       "<style scoped>\n",
       "    .dataframe tbody tr th:only-of-type {\n",
       "        vertical-align: middle;\n",
       "    }\n",
       "\n",
       "    .dataframe tbody tr th {\n",
       "        vertical-align: top;\n",
       "    }\n",
       "\n",
       "    .dataframe thead th {\n",
       "        text-align: right;\n",
       "    }\n",
       "</style>\n",
       "<table border=\"1\" class=\"dataframe\">\n",
       "  <thead>\n",
       "    <tr style=\"text-align: right;\">\n",
       "      <th></th>\n",
       "      <th>r</th>\n",
       "      <th>p</th>\n",
       "      <th>rr</th>\n",
       "      <th>f</th>\n",
       "    </tr>\n",
       "  </thead>\n",
       "  <tbody>\n",
       "    <tr>\n",
       "      <th>0</th>\n",
       "      <td>{'startNode': {'elementId': '4:ff73e06d-56ad-4959-b409-fcc3d9dce978:30', 'labels': ('Person'), '...</td>\n",
       "      <td>{'elementId': '4:ff73e06d-56ad-4959-b409-fcc3d9dce978:30', 'labels': ('Person'), 'properties': {...</td>\n",
       "      <td>{'startNode': {'elementId': '4:ff73e06d-56ad-4959-b409-fcc3d9dce978:34', 'labels': ('Person'), '...</td>\n",
       "      <td>{'elementId': '4:ff73e06d-56ad-4959-b409-fcc3d9dce978:34', 'labels': ('Person'), 'properties': {...</td>\n",
       "    </tr>\n",
       "    <tr>\n",
       "      <th>1</th>\n",
       "      <td>{'startNode': {'elementId': '4:ff73e06d-56ad-4959-b409-fcc3d9dce978:32', 'labels': ('Person'), '...</td>\n",
       "      <td>{'elementId': '4:ff73e06d-56ad-4959-b409-fcc3d9dce978:32', 'labels': ('Person'), 'properties': {...</td>\n",
       "      <td>{'startNode': {'elementId': '4:ff73e06d-56ad-4959-b409-fcc3d9dce978:34', 'labels': ('Person'), '...</td>\n",
       "      <td>{'elementId': '4:ff73e06d-56ad-4959-b409-fcc3d9dce978:34', 'labels': ('Person'), 'properties': {...</td>\n",
       "    </tr>\n",
       "  </tbody>\n",
       "</table>\n",
       "</div>"
      ],
      "text/plain": [
       "                                                                                                     r  \\\n",
       "0  {'startNode': {'elementId': '4:ff73e06d-56ad-4959-b409-fcc3d9dce978:30', 'labels': ('Person'), '...   \n",
       "1  {'startNode': {'elementId': '4:ff73e06d-56ad-4959-b409-fcc3d9dce978:32', 'labels': ('Person'), '...   \n",
       "\n",
       "                                                                                                     p  \\\n",
       "0  {'elementId': '4:ff73e06d-56ad-4959-b409-fcc3d9dce978:30', 'labels': ('Person'), 'properties': {...   \n",
       "1  {'elementId': '4:ff73e06d-56ad-4959-b409-fcc3d9dce978:32', 'labels': ('Person'), 'properties': {...   \n",
       "\n",
       "                                                                                                    rr  \\\n",
       "0  {'startNode': {'elementId': '4:ff73e06d-56ad-4959-b409-fcc3d9dce978:34', 'labels': ('Person'), '...   \n",
       "1  {'startNode': {'elementId': '4:ff73e06d-56ad-4959-b409-fcc3d9dce978:34', 'labels': ('Person'), '...   \n",
       "\n",
       "                                                                                                     f  \n",
       "0  {'elementId': '4:ff73e06d-56ad-4959-b409-fcc3d9dce978:34', 'labels': ('Person'), 'properties': {...  \n",
       "1  {'elementId': '4:ff73e06d-56ad-4959-b409-fcc3d9dce978:34', 'labels': ('Person'), 'properties': {...  "
      ]
     },
     "execution_count": 10,
     "metadata": {},
     "output_type": "execute_result"
    }
   ],
   "source": [
    "# Let's create a bi-directional relationship. Let's say Sally has a friend, Sarah\n",
    "driver.execute_query(\n",
    "    \"\"\" \n",
    "    CREATE (p:Person {name: \"Sarah\"});\n",
    "    \"\"\",\n",
    "    database_=\"dev\"\n",
    ")\n",
    "\n",
    "result = driver.execute_query(\n",
    "    \"\"\" \n",
    "    MATCH (p:Person {name: \"Sally\"}), (f:Person {name: \"Sarah\"})\n",
    "    WITH p, f\n",
    "    CREATE (p)-[r:HAS_FRIEND]->(f)-[rr:HAS_FRIEND]->(p)\n",
    "    RETURN *;\n",
    "    \"\"\",\n",
    "    database_=\"dev\"\n",
    ")\n",
    "\n",
    "df = Neo4jParser.parse(result, True, True)\n",
    "df.head()"
   ]
  },
  {
   "cell_type": "markdown",
   "metadata": {},
   "source": [
    "**NOTE:**\n",
    "\n",
    "You can also use pathes to create a complex pattern."
   ]
  },
  {
   "cell_type": "code",
   "execution_count": 11,
   "metadata": {},
   "outputs": [
    {
     "name": "stdout",
     "output_type": "stream",
     "text": [
      "Started streaming 1 records after 0 ms and completed after 0 ms.\n",
      "\n",
      "Query executed against database: 'dev':  \n",
      "    CREATE p=(mike:Person {name:\"Mike\"})-[:FOLLOWS]->(jackie:Person {name:\"Jackie\"})<-[:FOLLOWS]-(tim:Person {name:\"Tim\"})\n",
      "    RETURN p;\n",
      "    \n"
     ]
    }
   ],
   "source": [
    "# Use a path to create a pattern where Mike follows Jackie who is followed by Tim\n",
    "result = driver.execute_query(\n",
    "    \"\"\" \n",
    "    CREATE p=(mike:Person {name:\"Mike\"})-[:FOLLOWS]->(jackie:Person {name:\"Jackie\"})<-[:FOLLOWS]-(tim:Person {name:\"Tim\"})\n",
    "    RETURN p;\n",
    "    \"\"\",\n",
    "    database_=\"dev\"\n",
    ")\n",
    "\n",
    "df = Neo4jParser.parse(result, True)"
   ]
  },
  {
   "cell_type": "markdown",
   "metadata": {},
   "source": [
    "**NOTE:**\n",
    "\n",
    "Cypher keywords *ARE NOT* case sensitive. Let's try it below."
   ]
  },
  {
   "cell_type": "code",
   "execution_count": 12,
   "metadata": {},
   "outputs": [
    {
     "name": "stdout",
     "output_type": "stream",
     "text": [
      "Started streaming 1 records after 1 ms and completed after 2 ms.\n",
      "\n",
      "Query executed against database: 'dev':  \n",
      "    create \n",
      "    (D:Person{name:'Dan'}),\n",
      "    (K:Person{name:'Kate'}),\n",
      "    (M:Person{name:'Mike'}),\n",
      "    (L:Person{name:'Luke'}),\n",
      "    (S:Person{name:'Steve'}),\n",
      "    (F:Person{name:'Favour'}),\n",
      "    (faith:Person{name:'Faith'}),\n",
      "    (J:Person{name:'Jane'}),\n",
      "    (D)-[:MARRIED_TO]->(K)-[:MARRIED]->(D),\n",
      "    (D)-[:PARENT_OF]->(M)<-[:PARENT_OF]-(K),\n",
      "    (D)-[:PARENT_OF]->(L)<-[:PARENT_OF]-(K),\n",
      "    (D)-[:PARENT_OF]->(S)<-[:PARENT_OF]-(K),\n",
      "    (F)-[:MARRIED_TO]->(S)-[:MARRIED]->(F),\n",
      "    (F)-[:PARENT_OF]->(faith)<-[:PARENT_OF]-(S),\n",
      "    (F)-[:PARENT_OF]->(J)<-[:PARENT_OF]-(S)\n",
      "    return *\n",
      "    \n"
     ]
    }
   ],
   "source": [
    "# Create a long series of node and relationships for a family tree\n",
    "result = driver.execute_query(\n",
    "    \"\"\" \n",
    "    create \n",
    "    (D:Person{name:'Dan'}),\n",
    "    (K:Person{name:'Kate'}),\n",
    "    (M:Person{name:'Mike'}),\n",
    "    (L:Person{name:'Luke'}),\n",
    "    (S:Person{name:'Steve'}),\n",
    "    (F:Person{name:'Favour'}),\n",
    "    (faith:Person{name:'Faith'}),\n",
    "    (J:Person{name:'Jane'}),\n",
    "    (D)-[:MARRIED_TO]->(K)-[:MARRIED]->(D),\n",
    "    (D)-[:PARENT_OF]->(M)<-[:PARENT_OF]-(K),\n",
    "    (D)-[:PARENT_OF]->(L)<-[:PARENT_OF]-(K),\n",
    "    (D)-[:PARENT_OF]->(S)<-[:PARENT_OF]-(K),\n",
    "    (F)-[:MARRIED_TO]->(S)-[:MARRIED]->(F),\n",
    "    (F)-[:PARENT_OF]->(faith)<-[:PARENT_OF]-(S),\n",
    "    (F)-[:PARENT_OF]->(J)<-[:PARENT_OF]-(S)\n",
    "    return *\n",
    "    \"\"\",\n",
    "    database_=\"dev\"\n",
    ")\n",
    "\n",
    "df = Neo4jParser.parse(result, True)"
   ]
  }
 ],
 "metadata": {
  "kernelspec": {
   "display_name": "udemy_neo4j_course",
   "language": "python",
   "name": "python3"
  },
  "language_info": {
   "codemirror_mode": {
    "name": "ipython",
    "version": 3
   },
   "file_extension": ".py",
   "mimetype": "text/x-python",
   "name": "python",
   "nbconvert_exporter": "python",
   "pygments_lexer": "ipython3",
   "version": "3.12.7"
  }
 },
 "nbformat": 4,
 "nbformat_minor": 2
}
