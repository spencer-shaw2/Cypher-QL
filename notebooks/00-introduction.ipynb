{
 "cells": [
  {
   "cell_type": "markdown",
   "metadata": {},
   "source": [
    "# Cypher Keywords"
   ]
  },
  {
   "cell_type": "markdown",
   "metadata": {},
   "source": [
    "## `CREATE`"
   ]
  },
  {
   "cell_type": "markdown",
   "metadata": {},
   "source": [
    "`CREATE` -> Used to create nodes in a graph.\n",
    "* **Creating Nodes**\n",
    "    * **WARNING:** Although this section is focused on using `CREATE`, it does have the ability to generate duplicate nodes. For example, `CREATE (n:Person {id: 1}) RETURN n;` will generate a new 'Person' node with property: '{id: 1}' as many times as the query is executed. However, swapping `CREATE` for `MERGE` will prevent duplicates from appearing in the graph.\n",
    "        * It is better practice to use `MERGE` over `CREATE`\n",
    "    * Create a node with single labels by using: `MERGE (n:Person) RETURN n`. Specify multiple labels like `MERGE (n:Person:Animal:Professional) RETURN n`\n",
    "    * Create a node with properties inside curly brackets like so: `MERGE (n:Person {name: \"Henry\", age: 17}) RETURN n`\n",
    "\n",
    "* **Creating Relationships**\n",
    "    * This is best illustrated through an example. Let's say Sally goes to the store to buy some pickles. To represent this graphically, first create two nodes for entities Sally (person) and pickles (food). The action or relationship between the two is the act of purchasing. So, in cypher we would write:\n",
    "        > `CREATE (p:Person {name: \"Sally\"}), (f:Food {item: \"Pickles\"}), (p)-[:PURCHASES]->(f) RETURN p, f;`\n",
    "\n",
    "        > `MERGE (p:Person {name: \"Sally\"})`<br>\n",
    "          `MERGE (f:Food {item: \"Pickles\"})`<br>\n",
    "          `MERGE (p)-[:PURCHASES]->(f)`<br>\n",
    "          `RETURN p, f;`<br>\n",
    "\n",
    "`RETURN` -> Instructed the graph to send back data from the graph based on what follows the 'RETURN' keyword.\n",
    "* `RETURN *` will return all variables and properties from the query."
   ]
  },
  {
   "cell_type": "code",
   "execution_count": 1,
   "metadata": {},
   "outputs": [],
   "source": [
    "from neo4j import GraphDatabase, Record, ResultSummary, EagerResult\n",
    "import os \n",
    "import socket\n",
    "from dotenv import load_dotenv \n",
    "load_dotenv()\n",
    "\n",
    "NEO4J_URI = os.getenv(\"NEO4J_URI\")\n",
    "NEO4J_USERNAME = os.getenv(\"NEO4J_USERNAME\")\n",
    "NEO4J_PASSWORD = os.getenv(\"NEO4J_PASSWORD\")\n",
    "\n",
    "driver = GraphDatabase.driver(NEO4J_URI, auth=(NEO4J_USERNAME, NEO4J_PASSWORD))"
   ]
  },
  {
   "cell_type": "markdown",
   "metadata": {},
   "source": [
    "**NOTE:**\n",
    "\n",
    "When working from WSL2 and Neo4j Desktop is installed on the Windows side, you have to set up port forwarding. To do this, open a Powershell administrator window and run the following:\n",
    "1. Run `ipconig`\n",
    "* From this point forward assume you have a Windows ip address of: '123.456.78.900'\n",
    "2. Launch the Neo4j database you want to query and take note of the port number (at the time of righting this, the default bolt port is '7687').\n",
    "3. Run `netsh interface portproxy set v4tov4 listenport=7687 listenaddress=123.456.78.900 connectport=7687 connectaddress=127.0.0.1`\n",
    "4. To verify, run `netsh interface portproxy show v4tov4`\n",
    "5. To disable the port forwarding, run `netsh interface portproxy delete v4tov4 listenport=1234 listenaddress=123.456.78.900`\n",
    "\n",
    "If working from a windows environment where Neo4j Desktop is installed, the default 'localhost' URI should be sufficient."
   ]
  },
  {
   "cell_type": "code",
   "execution_count": 2,
   "metadata": {},
   "outputs": [],
   "source": [
    "def annotate_results(result: EagerResult, verbose: bool = False) -> list[dict]:\n",
    "    \"\"\" \n",
    "    A helper function to optionally print out some helpful metadata around the query and return\n",
    "    a parsed list from the EagerResult.records object.mro\n",
    "\n",
    "    Args:\n",
    "        result -> The EagerResult object returned by Neo4j\n",
    "        verbose -> Optional parameter to print out informative query metadata or not\n",
    "\n",
    "    Returns:\n",
    "        A list of records as dictionaries\n",
    "    \"\"\"\n",
    "    start = result.summary.result_available_after\n",
    "    finish = start + result.summary.result_consumed_after\n",
    "    print(f\"Started streaming {len(result.records)} records after {start} ms and completed after {finish} ms.\")\n",
    "    \n",
    "    if verbose:\n",
    "        print(f\"Query executed (database '{result.summary.database}'): {result.summary.query}\")\n",
    "\n",
    "    return [record.data() for record in result.records]"
   ]
  },
  {
   "cell_type": "markdown",
   "metadata": {},
   "source": [
    "What the heck is an 'EagerResult'?\n",
    "\n",
    "https://neo4j.com/docs/api/python-driver/current/api.html#neo4j.EagerResult"
   ]
  },
  {
   "cell_type": "code",
   "execution_count": 3,
   "metadata": {},
   "outputs": [
    {
     "name": "stdout",
     "output_type": "stream",
     "text": [
      "Started streaming 0 records after 3 ms and completed after 4 ms.\n",
      "Query executed (database 'dev'):  \n",
      "    MATCH (n) RETURN n;\n",
      "    \n"
     ]
    },
    {
     "data": {
      "text/plain": [
       "[]"
      ]
     },
     "execution_count": 3,
     "metadata": {},
     "output_type": "execute_result"
    }
   ],
   "source": [
    "# Let's see how many nodes are in our graph\n",
    "result: EagerResult[list[Record], ResultSummary, list[str]] = driver.execute_query(\n",
    "    \"\"\" \n",
    "    MATCH (n) RETURN n;\n",
    "    \"\"\",\n",
    "    database_=\"dev\"\n",
    ")\n",
    "\n",
    "lst = annotate_results(result, True)\n",
    "lst"
   ]
  },
  {
   "cell_type": "markdown",
   "metadata": {},
   "source": [
    "**NOTE:**\n",
    "\n",
    "To keep things clean, I'll only annotate the 'result' variable once. Clearly the response returned from Neo4j is a pretty complex object that holds a ton of useful information. I would encourage you to explore their documentation and modify the `annotate_results` function to provide you with information that is the most helpful to you!"
   ]
  },
  {
   "cell_type": "code",
   "execution_count": 4,
   "metadata": {},
   "outputs": [
    {
     "name": "stdout",
     "output_type": "stream",
     "text": [
      "Started streaming 1 records after 46 ms and completed after 48 ms.\n",
      "Query executed (database 'dev'):  \n",
      "    CREATE (p:Person {name: \"Sally\"})\n",
      "    RETURN p\n",
      "    \n"
     ]
    },
    {
     "data": {
      "text/plain": [
       "[{'p': {'name': 'Sally'}}]"
      ]
     },
     "execution_count": 4,
     "metadata": {},
     "output_type": "execute_result"
    }
   ],
   "source": [
    "# Let's create a person in our graph named Sally\n",
    "result = driver.execute_query(\n",
    "    \"\"\" \n",
    "    CREATE (p:Person {name: \"Sally\"})\n",
    "    RETURN p\n",
    "    \"\"\",\n",
    "    database_=\"dev\"\n",
    ")\n",
    "\n",
    "lst = annotate_results(result, True)\n",
    "\n",
    "# Let's take a look at how our record is represented in python\n",
    "lst"
   ]
  },
  {
   "cell_type": "code",
   "execution_count": 5,
   "metadata": {},
   "outputs": [
    {
     "name": "stdout",
     "output_type": "stream",
     "text": [
      "Started streaming 0 records after 0 ms and completed after 0 ms.\n",
      "Query executed (database 'dev'):  \n",
      "    MATCH (n) DETACH DELETE n;\n",
      "    \n"
     ]
    }
   ],
   "source": [
    "# Let's delete all records in Neo4j\n",
    "result = driver.execute_query(\n",
    "    \"\"\" \n",
    "    MATCH (n) DETACH DELETE n;\n",
    "    \"\"\",\n",
    "    database_=\"dev\"\n",
    ")\n",
    "\n",
    "lst = annotate_results(result, True)"
   ]
  },
  {
   "cell_type": "code",
   "execution_count": 6,
   "metadata": {},
   "outputs": [
    {
     "name": "stdout",
     "output_type": "stream",
     "text": [
      "Started streaming 1 records after 5 ms and completed after 7 ms.\n",
      "Query executed (database 'dev'):  \n",
      "    CREATE (p:Person {name: \"Sally\"}), (f:Food {item: \"Pickles\"}), (p)-[r:PURCHASES]->(f) RETURN *;\n",
      "    \n"
     ]
    }
   ],
   "source": [
    "# Let's create a relationship with one direction to represent the scenario \"Sally goes to the store and purchases pickles\"\n",
    "result = driver.execute_query(\n",
    "    \"\"\" \n",
    "    CREATE (p:Person {name: \"Sally\"}), (f:Food {item: \"Pickles\"}), (p)-[r:PURCHASES]->(f) RETURN *;\n",
    "    \"\"\",\n",
    "    database_=\"dev\"\n",
    ")\n",
    "\n",
    "lst = annotate_results(result, True)"
   ]
  }
 ],
 "metadata": {
  "kernelspec": {
   "display_name": "udemy_neo4j_course",
   "language": "python",
   "name": "python3"
  },
  "language_info": {
   "codemirror_mode": {
    "name": "ipython",
    "version": 3
   },
   "file_extension": ".py",
   "mimetype": "text/x-python",
   "name": "python",
   "nbconvert_exporter": "python",
   "pygments_lexer": "ipython3",
   "version": "3.12.7"
  }
 },
 "nbformat": 4,
 "nbformat_minor": 2
}
