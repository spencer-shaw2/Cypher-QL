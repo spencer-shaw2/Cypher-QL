{
 "cells": [
  {
   "cell_type": "markdown",
   "metadata": {},
   "source": [
    "# Start Here\n",
    "___________________________________________________________________________________________________________________________________________________________________________________________________\n",
    "\n",
    "This notebook will focus on interacting with a Neo4j database from Python focusing on the `MATCH` and `RETURN` cypher keywords. The downside to this, is it's hard to visualize some of the queries being ran. It's highly encourage to switch between the notebook and your local Neo4j Desktop database.\n",
    "\n",
    "To download Neo4j Desktop, follow the instructions [here.](https://neo4j.com/download/)\n",
    "\n",
    "\n",
    "🛑 **IMPORTANT**\n",
    "\n",
    "In the \"./utils\" directory is a helper file `Neo4jParser.py`. I've gone ahead and wrote some code in assisting with parsing the results of queries returned from Neo4j. According to Neo4j's [documentation](https://neo4j.com/docs/api/python-driver/current/api.html#), there are several methods to parse an `EagerResult`. Please go to the utils directory and open `Neo4jParser.py` to understand the functions available.\n",
    "> If you are newer to Python, or only looking for the data behind your queries, use: `Neo4jParser.simple_parse()`. Please be aware that the `neo4j.Record.data()` method will look different from the results you see in Neo4j Browser. For this reason, it's encouraged to use `Neo4jParser.parse()`.\n",
    "\n",
    "> For an all encompassing view of the data and to match a format more similar to what you will see from the Neo4j Browser, use: `Neo4jParser.parse()`. This is the recommended approach and the one that will be used throughout this series.\n",
    "\n",
    "\n",
    "⚠️ **NOTICE**\n",
    "\n",
    "**If working from WSL...**\n",
    "\n",
    "When working from WSL2 and Neo4j Desktop is installed on the Windows side, you have to set up port forwarding. To do this, open a Powershell administrator window and run the following:\n",
    "1. Start the default Neo4j Desktop database \"Movies DBMS\".\n",
    "2. Run `ipconfig` to fetch your machine's IP address\n",
    "    * From this point forward assume you have a Windows ip address of: '123.456.78.900'\n",
    "3. Run `netsh interface portproxy set v4tov4 listenport=7687 listenaddress=123.456.78.900 connectport=7687 connectaddress=127.0.0.1`\n",
    "    * NOTE: The 'listenport' and 'connectport' should be the same port your Neo4j database is running on.\n",
    "4. To verify, run `netsh interface portproxy show v4tov4`\n",
    "5. To disable the port forwarding, run `netsh interface portproxy delete v4tov4 listenport=1234 listenaddress=123.456.78.900`\n",
    "\n",
    "If working from a windows/mac environment where Neo4j Desktop is installed, the default 'localhost' URI should be sufficient."
   ]
  },
  {
   "cell_type": "code",
   "execution_count": 1,
   "metadata": {},
   "outputs": [],
   "source": [
    "from neo4j import GraphDatabase, Record, ResultSummary, EagerResult\n",
    "from neo4j.time import Date\n",
    "\n",
    "import pandas as pd\n",
    "pd.set_option('display.max_colwidth', 100)\n",
    "\n",
    "import os \n",
    "import sys\n",
    "import socket\n",
    "from dotenv import load_dotenv \n",
    "load_dotenv()\n",
    "\n",
    "# Add the utils directory to sys.path\n",
    "sys.path.append(os.path.abspath(\"../utils\"))\n",
    "\n",
    "from Neo4jParser import Neo4jParser\n",
    "\n",
    "\n",
    "NEO4J_URI = os.getenv(\"NEO4J_URI\")\n",
    "NEO4J_USERNAME = os.getenv(\"NEO4J_USERNAME\")\n",
    "NEO4J_PASSWORD = os.getenv(\"NEO4J_PASSWORD\")\n",
    "\n",
    "driver = GraphDatabase.driver(NEO4J_URI, auth=(NEO4J_USERNAME, NEO4J_PASSWORD))"
   ]
  },
  {
   "cell_type": "markdown",
   "metadata": {},
   "source": [
    "## `MATCH`"
   ]
  },
  {
   "cell_type": "markdown",
   "metadata": {},
   "source": [
    "* `MATCH` -> Used like SQL's `SELECT` statement. It is a read only command to extract data from the graph.\n",
    "    * To return everything from the graph we can run `MATCH (n) RETURN n;`\n",
    "* To return related nodes, we call a node's label. We can write `MATCH (n:Person) RETURN n;` to return ALL 'Person' nodes.\n",
    "    * To return related nodes with more than one label: `MATCH (n:Person:Doctors) RETURN n;` to return ALL 'Person' and 'Doctor' nodes.\n",
    "* We can match nodes via a pattern by not specifying a direction in the relationship, for example: `MATCH (n:Person)--(d:Doctor) RETURN *` tells the query to return all instances of person and doctor regardless of the direction of the relationship.\n",
    "* You can use backticks '\\`' to introduce uncommon characters in your queries. For example `MATCH (``THIS IS MY NODE VARIABLE``) RETRUN ``THIS IS MY NODE VARIABLE``;`\n",
    "* You can use `MATCH` to select a node and use it's properties as properties for a new node, for example:<br>\n",
    "\n",
    "    `MATCH (n:Person {name:\"Tom Hanks\"})`<br>\n",
    "    `CREATE (n:Person {name:n.name})`<br>\n",
    "    `RETURN *`\n",
    "* We can do the same for relationships, for example:<br>\n",
    "\n",
    "    `MATCH (n:Person {name:\"Sally\"})-[r:PURCHASED]->(f:Food {item:\"Pickles})`<br>\n",
    "    `CREATE (n:Person {name:\"Sally\", purchased_pickles_on: r.purchased_on})`<br>\n",
    "    `RETURN *`\n",
    "* To match with multiple relationships you separate the names with \"|\" like so: `MATCH (p:Person)-[:ACTED_IN|DIRECTED]->(m:Movie) RETURN p, m;`"
   ]
  },
  {
   "cell_type": "markdown",
   "metadata": {},
   "source": [
    "## `RETURN`"
   ]
  },
  {
   "cell_type": "markdown",
   "metadata": {},
   "source": [
    "* At this point are familiar with the basics of `RETURN`, but here we will look at it a little bit deeper.\n",
    "* `RETURN` is equivalent to SQL's `SELECT`, much like the `MATCH` keyword we learned about previously.\n",
    "* `RETURN` allows us to return all, or we can return specific properties, aggregations, filtered data, etc. just like `SELECT` in SQL.\n",
    "* If I have a query: `MATCH (n:Person) RETURN n;` this will return the nodes and we will see a picture of all the nodes. If we want to return the data in tabular format. We can return the specific properties or use a function `properties` to return all properties of my nodes: `MATCH (n) RETURN properties(n) as prop;`. This will not include the label of the nodes. To add that you can do: `MATCH (n) RETURN properties(n) as prop, labels(n) as n_label;`\n",
    "* For returned relationship data, we have a few options that include but are not limited to, assuming we have the query `MATCH (n)-[r]-(m)`: `type(r)` -> returns the name or label of the relationship, `r` returns all data about 'r', or `r.<property_name>` to return specific properties.\n",
    "* You can use `DISTINCT` keyword after `RETURN` the same way you would use it in SQL, to return non-duplicated information.\n",
    "* You can use `RETURN reltionships(n)` to return all relationships in your query. This is helpful in a complicated path variable."
   ]
  },
  {
   "cell_type": "code",
   "execution_count": 2,
   "metadata": {},
   "outputs": [
    {
     "name": "stdout",
     "output_type": "stream",
     "text": [
      "Started streaming 139 records after 2 ms and completed after 14 ms.\n",
      "\n",
      "Query executed against database: 'neo4j':  \n",
      "    MATCH (p:Person)\n",
      "    RETURN {\n",
      "        nodes: {properties: properties(p), labels: labels(p)}\n",
      "    } AS record\n",
      "    \n"
     ]
    },
    {
     "data": {
      "text/html": [
       "<div>\n",
       "<style scoped>\n",
       "    .dataframe tbody tr th:only-of-type {\n",
       "        vertical-align: middle;\n",
       "    }\n",
       "\n",
       "    .dataframe tbody tr th {\n",
       "        vertical-align: top;\n",
       "    }\n",
       "\n",
       "    .dataframe thead th {\n",
       "        text-align: right;\n",
       "    }\n",
       "</style>\n",
       "<table border=\"1\" class=\"dataframe\">\n",
       "  <thead>\n",
       "    <tr style=\"text-align: right;\">\n",
       "      <th></th>\n",
       "      <th>record</th>\n",
       "    </tr>\n",
       "  </thead>\n",
       "  <tbody>\n",
       "    <tr>\n",
       "      <th>0</th>\n",
       "      <td>{'nodes': {'labels': ['Person'], 'properties': {'born': 1964, 'name': 'Keanu Reeves'}}}</td>\n",
       "    </tr>\n",
       "    <tr>\n",
       "      <th>1</th>\n",
       "      <td>{'nodes': {'labels': ['Person'], 'properties': {'born': 1967, 'name': 'Carrie-Anne Moss'}}}</td>\n",
       "    </tr>\n",
       "    <tr>\n",
       "      <th>2</th>\n",
       "      <td>{'nodes': {'labels': ['Person'], 'properties': {'born': 1961, 'name': 'Laurence Fishburne'}}}</td>\n",
       "    </tr>\n",
       "    <tr>\n",
       "      <th>3</th>\n",
       "      <td>{'nodes': {'labels': ['Person'], 'properties': {'born': 1960, 'name': 'Hugo Weaving'}}}</td>\n",
       "    </tr>\n",
       "    <tr>\n",
       "      <th>4</th>\n",
       "      <td>{'nodes': {'labels': ['Person'], 'properties': {'born': 1967, 'name': 'Andy Wachowski'}}}</td>\n",
       "    </tr>\n",
       "  </tbody>\n",
       "</table>\n",
       "</div>"
      ],
      "text/plain": [
       "                                                                                          record\n",
       "0        {'nodes': {'labels': ['Person'], 'properties': {'born': 1964, 'name': 'Keanu Reeves'}}}\n",
       "1    {'nodes': {'labels': ['Person'], 'properties': {'born': 1967, 'name': 'Carrie-Anne Moss'}}}\n",
       "2  {'nodes': {'labels': ['Person'], 'properties': {'born': 1961, 'name': 'Laurence Fishburne'}}}\n",
       "3        {'nodes': {'labels': ['Person'], 'properties': {'born': 1960, 'name': 'Hugo Weaving'}}}\n",
       "4      {'nodes': {'labels': ['Person'], 'properties': {'born': 1967, 'name': 'Andy Wachowski'}}}"
      ]
     },
     "execution_count": 2,
     "metadata": {},
     "output_type": "execute_result"
    }
   ],
   "source": [
    "# Let's query our graph and process the results to extract the labels, properties, and relationship types\n",
    "result = driver.execute_query(\n",
    "    \"\"\" \n",
    "    MATCH (p:Person)\n",
    "    RETURN {\n",
    "        nodes: {properties: properties(p), labels: labels(p)}\n",
    "    } AS record\n",
    "    \"\"\",\n",
    "    database_=\"neo4j\"\n",
    ")\n",
    "\n",
    "df = Neo4jParser.parse(result, True, True)\n",
    "df.head()"
   ]
  },
  {
   "cell_type": "code",
   "execution_count": 3,
   "metadata": {},
   "outputs": [
    {
     "name": "stdout",
     "output_type": "stream",
     "text": [
      "Started streaming 59 records after 2 ms and completed after 22 ms.\n",
      "\n",
      "Query executed against database: 'neo4j':  \n",
      "    MATCH x = (p:Person {name:\"Tom Hanks\"})--()--()\n",
      "    RETURN x\n",
      "    \n"
     ]
    },
    {
     "data": {
      "text/html": [
       "<div>\n",
       "<style scoped>\n",
       "    .dataframe tbody tr th:only-of-type {\n",
       "        vertical-align: middle;\n",
       "    }\n",
       "\n",
       "    .dataframe tbody tr th {\n",
       "        vertical-align: top;\n",
       "    }\n",
       "\n",
       "    .dataframe thead th {\n",
       "        text-align: right;\n",
       "    }\n",
       "</style>\n",
       "<table border=\"1\" class=\"dataframe\">\n",
       "  <thead>\n",
       "    <tr style=\"text-align: right;\">\n",
       "      <th></th>\n",
       "      <th>x</th>\n",
       "    </tr>\n",
       "  </thead>\n",
       "  <tbody>\n",
       "    <tr>\n",
       "      <th>0</th>\n",
       "      <td>{'startNodeElementId': '4:552b0252-2f83-4c7e-a0bf-f921a4b1b7cf:71', 'nodes': [{'elementId': '4:5...</td>\n",
       "    </tr>\n",
       "    <tr>\n",
       "      <th>1</th>\n",
       "      <td>{'startNodeElementId': '4:552b0252-2f83-4c7e-a0bf-f921a4b1b7cf:71', 'nodes': [{'elementId': '4:5...</td>\n",
       "    </tr>\n",
       "    <tr>\n",
       "      <th>2</th>\n",
       "      <td>{'startNodeElementId': '4:552b0252-2f83-4c7e-a0bf-f921a4b1b7cf:71', 'nodes': [{'elementId': '4:5...</td>\n",
       "    </tr>\n",
       "    <tr>\n",
       "      <th>3</th>\n",
       "      <td>{'startNodeElementId': '4:552b0252-2f83-4c7e-a0bf-f921a4b1b7cf:71', 'nodes': [{'elementId': '4:5...</td>\n",
       "    </tr>\n",
       "    <tr>\n",
       "      <th>4</th>\n",
       "      <td>{'startNodeElementId': '4:552b0252-2f83-4c7e-a0bf-f921a4b1b7cf:71', 'nodes': [{'elementId': '4:5...</td>\n",
       "    </tr>\n",
       "  </tbody>\n",
       "</table>\n",
       "</div>"
      ],
      "text/plain": [
       "                                                                                                     x\n",
       "0  {'startNodeElementId': '4:552b0252-2f83-4c7e-a0bf-f921a4b1b7cf:71', 'nodes': [{'elementId': '4:5...\n",
       "1  {'startNodeElementId': '4:552b0252-2f83-4c7e-a0bf-f921a4b1b7cf:71', 'nodes': [{'elementId': '4:5...\n",
       "2  {'startNodeElementId': '4:552b0252-2f83-4c7e-a0bf-f921a4b1b7cf:71', 'nodes': [{'elementId': '4:5...\n",
       "3  {'startNodeElementId': '4:552b0252-2f83-4c7e-a0bf-f921a4b1b7cf:71', 'nodes': [{'elementId': '4:5...\n",
       "4  {'startNodeElementId': '4:552b0252-2f83-4c7e-a0bf-f921a4b1b7cf:71', 'nodes': [{'elementId': '4:5..."
      ]
     },
     "execution_count": 3,
     "metadata": {},
     "output_type": "execute_result"
    }
   ],
   "source": [
    "# Let's return all relationships in a very open ended path match pattern\n",
    "result = driver.execute_query(\n",
    "    \"\"\" \n",
    "    MATCH x = (p:Person {name:\"Tom Hanks\"})--()--()\n",
    "    RETURN x\n",
    "    \"\"\",\n",
    "    database_=\"neo4j\"\n",
    ")\n",
    "\n",
    "df = Neo4jParser.parse(result, True, True)\n",
    "df.head()"
   ]
  },
  {
   "cell_type": "code",
   "execution_count": 4,
   "metadata": {},
   "outputs": [
    {
     "name": "stdout",
     "output_type": "stream",
     "text": [
      "Started streaming 44 records after 0 ms and completed after 2 ms.\n",
      "\n",
      "Query executed against database: 'neo4j':  \n",
      "    MATCH (p:Person)-[:DIRECTED]->(m:Movie) RETURN p, m;\n",
      "    \n"
     ]
    },
    {
     "data": {
      "text/html": [
       "<div>\n",
       "<style scoped>\n",
       "    .dataframe tbody tr th:only-of-type {\n",
       "        vertical-align: middle;\n",
       "    }\n",
       "\n",
       "    .dataframe tbody tr th {\n",
       "        vertical-align: top;\n",
       "    }\n",
       "\n",
       "    .dataframe thead th {\n",
       "        text-align: right;\n",
       "    }\n",
       "</style>\n",
       "<table border=\"1\" class=\"dataframe\">\n",
       "  <thead>\n",
       "    <tr style=\"text-align: right;\">\n",
       "      <th></th>\n",
       "      <th>p</th>\n",
       "      <th>m</th>\n",
       "    </tr>\n",
       "  </thead>\n",
       "  <tbody>\n",
       "    <tr>\n",
       "      <th>0</th>\n",
       "      <td>{'elementId': '4:552b0252-2f83-4c7e-a0bf-f921a4b1b7cf:5', 'labels': ('Person'), 'properties': {'...</td>\n",
       "      <td>{'elementId': '4:552b0252-2f83-4c7e-a0bf-f921a4b1b7cf:0', 'labels': ('Movie'), 'properties': {'t...</td>\n",
       "    </tr>\n",
       "    <tr>\n",
       "      <th>1</th>\n",
       "      <td>{'elementId': '4:552b0252-2f83-4c7e-a0bf-f921a4b1b7cf:6', 'labels': ('Person'), 'properties': {'...</td>\n",
       "      <td>{'elementId': '4:552b0252-2f83-4c7e-a0bf-f921a4b1b7cf:0', 'labels': ('Movie'), 'properties': {'t...</td>\n",
       "    </tr>\n",
       "    <tr>\n",
       "      <th>2</th>\n",
       "      <td>{'elementId': '4:552b0252-2f83-4c7e-a0bf-f921a4b1b7cf:5', 'labels': ('Person'), 'properties': {'...</td>\n",
       "      <td>{'elementId': '4:552b0252-2f83-4c7e-a0bf-f921a4b1b7cf:9', 'labels': ('Movie'), 'properties': {'t...</td>\n",
       "    </tr>\n",
       "    <tr>\n",
       "      <th>3</th>\n",
       "      <td>{'elementId': '4:552b0252-2f83-4c7e-a0bf-f921a4b1b7cf:6', 'labels': ('Person'), 'properties': {'...</td>\n",
       "      <td>{'elementId': '4:552b0252-2f83-4c7e-a0bf-f921a4b1b7cf:9', 'labels': ('Movie'), 'properties': {'t...</td>\n",
       "    </tr>\n",
       "    <tr>\n",
       "      <th>4</th>\n",
       "      <td>{'elementId': '4:552b0252-2f83-4c7e-a0bf-f921a4b1b7cf:5', 'labels': ('Person'), 'properties': {'...</td>\n",
       "      <td>{'elementId': '4:552b0252-2f83-4c7e-a0bf-f921a4b1b7cf:10', 'labels': ('Movie'), 'properties': {'...</td>\n",
       "    </tr>\n",
       "  </tbody>\n",
       "</table>\n",
       "</div>"
      ],
      "text/plain": [
       "                                                                                                     p  \\\n",
       "0  {'elementId': '4:552b0252-2f83-4c7e-a0bf-f921a4b1b7cf:5', 'labels': ('Person'), 'properties': {'...   \n",
       "1  {'elementId': '4:552b0252-2f83-4c7e-a0bf-f921a4b1b7cf:6', 'labels': ('Person'), 'properties': {'...   \n",
       "2  {'elementId': '4:552b0252-2f83-4c7e-a0bf-f921a4b1b7cf:5', 'labels': ('Person'), 'properties': {'...   \n",
       "3  {'elementId': '4:552b0252-2f83-4c7e-a0bf-f921a4b1b7cf:6', 'labels': ('Person'), 'properties': {'...   \n",
       "4  {'elementId': '4:552b0252-2f83-4c7e-a0bf-f921a4b1b7cf:5', 'labels': ('Person'), 'properties': {'...   \n",
       "\n",
       "                                                                                                     m  \n",
       "0  {'elementId': '4:552b0252-2f83-4c7e-a0bf-f921a4b1b7cf:0', 'labels': ('Movie'), 'properties': {'t...  \n",
       "1  {'elementId': '4:552b0252-2f83-4c7e-a0bf-f921a4b1b7cf:0', 'labels': ('Movie'), 'properties': {'t...  \n",
       "2  {'elementId': '4:552b0252-2f83-4c7e-a0bf-f921a4b1b7cf:9', 'labels': ('Movie'), 'properties': {'t...  \n",
       "3  {'elementId': '4:552b0252-2f83-4c7e-a0bf-f921a4b1b7cf:9', 'labels': ('Movie'), 'properties': {'t...  \n",
       "4  {'elementId': '4:552b0252-2f83-4c7e-a0bf-f921a4b1b7cf:10', 'labels': ('Movie'), 'properties': {'...  "
      ]
     },
     "execution_count": 4,
     "metadata": {},
     "output_type": "execute_result"
    }
   ],
   "source": [
    "# Let's match all records where people directed in a movie\n",
    "result = driver.execute_query(\n",
    "    \"\"\" \n",
    "    MATCH (p:Person)-[:DIRECTED]->(m:Movie) RETURN p, m;\n",
    "    \"\"\",\n",
    "    database_=\"neo4j\"\n",
    ")\n",
    "\n",
    "df = Neo4jParser.parse(result, True, True)\n",
    "df.head()"
   ]
  },
  {
   "cell_type": "code",
   "execution_count": 5,
   "metadata": {},
   "outputs": [
    {
     "name": "stdout",
     "output_type": "stream",
     "text": [
      "Started streaming 224 records after 1 ms and completed after 17 ms.\n",
      "\n",
      "Query executed against database: 'neo4j':  \n",
      "    MATCH (p:Person)-[:ACTED_IN|DIRECTED]->(m:Movie) RETURN p, m;\n",
      "    \n"
     ]
    },
    {
     "data": {
      "text/html": [
       "<div>\n",
       "<style scoped>\n",
       "    .dataframe tbody tr th:only-of-type {\n",
       "        vertical-align: middle;\n",
       "    }\n",
       "\n",
       "    .dataframe tbody tr th {\n",
       "        vertical-align: top;\n",
       "    }\n",
       "\n",
       "    .dataframe thead th {\n",
       "        text-align: right;\n",
       "    }\n",
       "</style>\n",
       "<table border=\"1\" class=\"dataframe\">\n",
       "  <thead>\n",
       "    <tr style=\"text-align: right;\">\n",
       "      <th></th>\n",
       "      <th>p</th>\n",
       "      <th>m</th>\n",
       "    </tr>\n",
       "  </thead>\n",
       "  <tbody>\n",
       "    <tr>\n",
       "      <th>0</th>\n",
       "      <td>{'elementId': '4:552b0252-2f83-4c7e-a0bf-f921a4b1b7cf:1', 'labels': ('Person'), 'properties': {'...</td>\n",
       "      <td>{'elementId': '4:552b0252-2f83-4c7e-a0bf-f921a4b1b7cf:0', 'labels': ('Movie'), 'properties': {'t...</td>\n",
       "    </tr>\n",
       "    <tr>\n",
       "      <th>1</th>\n",
       "      <td>{'elementId': '4:552b0252-2f83-4c7e-a0bf-f921a4b1b7cf:2', 'labels': ('Person'), 'properties': {'...</td>\n",
       "      <td>{'elementId': '4:552b0252-2f83-4c7e-a0bf-f921a4b1b7cf:0', 'labels': ('Movie'), 'properties': {'t...</td>\n",
       "    </tr>\n",
       "    <tr>\n",
       "      <th>2</th>\n",
       "      <td>{'elementId': '4:552b0252-2f83-4c7e-a0bf-f921a4b1b7cf:3', 'labels': ('Person'), 'properties': {'...</td>\n",
       "      <td>{'elementId': '4:552b0252-2f83-4c7e-a0bf-f921a4b1b7cf:0', 'labels': ('Movie'), 'properties': {'t...</td>\n",
       "    </tr>\n",
       "    <tr>\n",
       "      <th>3</th>\n",
       "      <td>{'elementId': '4:552b0252-2f83-4c7e-a0bf-f921a4b1b7cf:4', 'labels': ('Person'), 'properties': {'...</td>\n",
       "      <td>{'elementId': '4:552b0252-2f83-4c7e-a0bf-f921a4b1b7cf:0', 'labels': ('Movie'), 'properties': {'t...</td>\n",
       "    </tr>\n",
       "    <tr>\n",
       "      <th>4</th>\n",
       "      <td>{'elementId': '4:552b0252-2f83-4c7e-a0bf-f921a4b1b7cf:8', 'labels': ('Person'), 'properties': {'...</td>\n",
       "      <td>{'elementId': '4:552b0252-2f83-4c7e-a0bf-f921a4b1b7cf:0', 'labels': ('Movie'), 'properties': {'t...</td>\n",
       "    </tr>\n",
       "  </tbody>\n",
       "</table>\n",
       "</div>"
      ],
      "text/plain": [
       "                                                                                                     p  \\\n",
       "0  {'elementId': '4:552b0252-2f83-4c7e-a0bf-f921a4b1b7cf:1', 'labels': ('Person'), 'properties': {'...   \n",
       "1  {'elementId': '4:552b0252-2f83-4c7e-a0bf-f921a4b1b7cf:2', 'labels': ('Person'), 'properties': {'...   \n",
       "2  {'elementId': '4:552b0252-2f83-4c7e-a0bf-f921a4b1b7cf:3', 'labels': ('Person'), 'properties': {'...   \n",
       "3  {'elementId': '4:552b0252-2f83-4c7e-a0bf-f921a4b1b7cf:4', 'labels': ('Person'), 'properties': {'...   \n",
       "4  {'elementId': '4:552b0252-2f83-4c7e-a0bf-f921a4b1b7cf:8', 'labels': ('Person'), 'properties': {'...   \n",
       "\n",
       "                                                                                                     m  \n",
       "0  {'elementId': '4:552b0252-2f83-4c7e-a0bf-f921a4b1b7cf:0', 'labels': ('Movie'), 'properties': {'t...  \n",
       "1  {'elementId': '4:552b0252-2f83-4c7e-a0bf-f921a4b1b7cf:0', 'labels': ('Movie'), 'properties': {'t...  \n",
       "2  {'elementId': '4:552b0252-2f83-4c7e-a0bf-f921a4b1b7cf:0', 'labels': ('Movie'), 'properties': {'t...  \n",
       "3  {'elementId': '4:552b0252-2f83-4c7e-a0bf-f921a4b1b7cf:0', 'labels': ('Movie'), 'properties': {'t...  \n",
       "4  {'elementId': '4:552b0252-2f83-4c7e-a0bf-f921a4b1b7cf:0', 'labels': ('Movie'), 'properties': {'t...  "
      ]
     },
     "execution_count": 5,
     "metadata": {},
     "output_type": "execute_result"
    }
   ],
   "source": [
    "# Let's match all records where people either acted in or directed a movie. Notice the record count difference from the previous cell\n",
    "result = driver.execute_query(\n",
    "    \"\"\" \n",
    "    MATCH (p:Person)-[:ACTED_IN|DIRECTED]->(m:Movie) RETURN p, m;\n",
    "    \"\"\",\n",
    "    database_=\"neo4j\"\n",
    ")\n",
    "\n",
    "df = Neo4jParser.parse(result, True, True)\n",
    "df.head()"
   ]
  },
  {
   "cell_type": "code",
   "execution_count": 7,
   "metadata": {},
   "outputs": [
    {
     "name": "stdout",
     "output_type": "stream",
     "text": [
      "Started streaming 14 records after 16 ms and completed after 17 ms.\n",
      "\n",
      "Query executed against database: 'neo4j':  \n",
      "    MATCH (keanu:Person {name:\"Keanu Reeves\"})-[:ACTED_IN]->(m:Movie)<-[:ACTED_IN]-(p:Person) RETURN DISTINCT p.name;\n",
      "    \n"
     ]
    },
    {
     "data": {
      "text/plain": [
       "{'p.name': ['Carrie-Anne Moss',\n",
       "  'Laurence Fishburne',\n",
       "  'Hugo Weaving',\n",
       "  'Emil Eifrem',\n",
       "  'Charlize Theron',\n",
       "  'Al Pacino',\n",
       "  'Brooke Langton',\n",
       "  'Gene Hackman',\n",
       "  'Orlando Jones',\n",
       "  'Takeshi Kitano',\n",
       "  'Dina Meyer',\n",
       "  'Ice-T',\n",
       "  'Jack Nicholson',\n",
       "  'Diane Keaton']}"
      ]
     },
     "execution_count": 7,
     "metadata": {},
     "output_type": "execute_result"
    }
   ],
   "source": [
    "# Who are other people who acted in Movies with Keanu Reeves?\n",
    "result = driver.execute_query(\n",
    "    \"\"\" \n",
    "    MATCH (keanu:Person {name:\"Keanu Reeves\"})-[:ACTED_IN]->(m:Movie)<-[:ACTED_IN]-(p:Person) RETURN DISTINCT p.name;\n",
    "    \"\"\",\n",
    "    database_=\"neo4j\"\n",
    ")\n",
    "\n",
    "df = Neo4jParser.parse(result, True, False)\n",
    "df"
   ]
  }
 ],
 "metadata": {
  "kernelspec": {
   "display_name": "udemy_neo4j_course",
   "language": "python",
   "name": "python3"
  },
  "language_info": {
   "codemirror_mode": {
    "name": "ipython",
    "version": 3
   },
   "file_extension": ".py",
   "mimetype": "text/x-python",
   "name": "python",
   "nbconvert_exporter": "python",
   "pygments_lexer": "ipython3",
   "version": "3.12.7"
  }
 },
 "nbformat": 4,
 "nbformat_minor": 2
}
