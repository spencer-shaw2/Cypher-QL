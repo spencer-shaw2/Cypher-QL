{
 "cells": [
  {
   "cell_type": "markdown",
   "metadata": {},
   "source": [
    "# About\n",
    "\n",
    "This notebook will introduce the list data structure, `range()` function, `collect()` function, and `UNWIND` keyword in Neo4j."
   ]
  },
  {
   "cell_type": "code",
   "execution_count": 1,
   "metadata": {},
   "outputs": [],
   "source": [
    "from neo4j import GraphDatabase, Record, ResultSummary, EagerResult\n",
    "from neo4j.time import Date\n",
    "\n",
    "import pandas as pd\n",
    "pd.set_option('display.max_colwidth', 100)\n",
    "\n",
    "import os \n",
    "import sys\n",
    "from dotenv import load_dotenv \n",
    "load_dotenv()\n",
    "\n",
    "# Add the utils directory to sys.path\n",
    "sys.path.append(os.path.abspath(\"../utils\"))\n",
    "\n",
    "from Neo4jParser import Neo4jParser\n",
    "\n",
    "\n",
    "NEO4J_URI = os.getenv(\"NEO4J_URI\")\n",
    "NEO4J_USERNAME = os.getenv(\"NEO4J_USERNAME\")\n",
    "NEO4J_PASSWORD = os.getenv(\"NEO4J_PASSWORD\")\n",
    "\n",
    "driver = GraphDatabase.driver(NEO4J_URI, auth=(NEO4J_USERNAME, NEO4J_PASSWORD))"
   ]
  },
  {
   "cell_type": "markdown",
   "metadata": {},
   "source": [
    "## List, Range, and Collect"
   ]
  },
  {
   "cell_type": "markdown",
   "metadata": {},
   "source": [
    "* A list in Neo4j is a structure like this: `[1, 2, 3, 4, 5, 6, 7, 8, 9, 10]` or `['spencer', 'joe', 'myer', 'sarah']`\n",
    "* We can generate lists in Neo4j with `range()`.\n",
    "    * `range()` has three arguments: start, end, step.\n",
    "        * i.e. `range(0, 10, 2)` returns: [2, 4, 6, 8, 10]\n",
    "    * Works similar to `range()` in python, except the ending value is inclusive.\n",
    "    * We can index lists with either a single number `[0]` or series `[50..60]`\n",
    "        * NOTE: The last value in a series of indexed values does not include the last value.\n",
    "* Can calculate the number of elements in a list, use `size()`\n",
    "* Can filter a list through list comprehension. Similar to python.\n",
    "    * i.e. `RETURN [x in range(0, 10) where x % 2 = 0 | x]`\n",
    "        * This query returns all even numbers in the list.\n",
    "* `collect()` is used to return a single aggregated result of an expression.\n",
    "    * ```\n",
    "      MATCH (n:Person)\n",
    "      RETURN collect(n.name);\n",
    "      ```\n",
    "    * This query would return a list of names"
   ]
  },
  {
   "cell_type": "code",
   "execution_count": 2,
   "metadata": {},
   "outputs": [
    {
     "name": "stdout",
     "output_type": "stream",
     "text": [
      "Started streaming 1 records after 2 ms and completed after 4 ms.\n",
      "\n",
      "Query executed against database: 'neo4j':  \n",
      "    RETURN range(0, 10, 2) as lst\n",
      "    \n"
     ]
    },
    {
     "data": {
      "text/plain": [
       "{'lst': [0, 2, 4, 6, 8, 10]}"
      ]
     },
     "execution_count": 2,
     "metadata": {},
     "output_type": "execute_result"
    }
   ],
   "source": [
    "# Return a list from 0 to 10 by a factor of 2.\n",
    "result = driver.execute_query(\n",
    "    \"\"\" \n",
    "    RETURN range(0, 10, 2) as lst\n",
    "    \"\"\",\n",
    "    database_=\"neo4j\"\n",
    ")\n",
    "\n",
    "data = Neo4jParser.parse(result, True, False)\n",
    "data"
   ]
  },
  {
   "cell_type": "code",
   "execution_count": 3,
   "metadata": {},
   "outputs": [
    {
     "name": "stdout",
     "output_type": "stream",
     "text": [
      "Started streaming 1 records after 1 ms and completed after 2 ms.\n",
      "\n",
      "Query executed against database: 'neo4j':  \n",
      "    RETURN range(-100, 0, 10) as lst\n",
      "    \n"
     ]
    },
    {
     "data": {
      "text/plain": [
       "{'lst': [-100, -90, -80, -70, -60, -50, -40, -30, -20, -10, 0]}"
      ]
     },
     "execution_count": 3,
     "metadata": {},
     "output_type": "execute_result"
    }
   ],
   "source": [
    "# Return a list from -100 to 0 by a factor of 10\n",
    "result = driver.execute_query(\n",
    "    \"\"\" \n",
    "    RETURN range(-100, 0, 10) as lst\n",
    "    \"\"\",\n",
    "    database_=\"neo4j\"\n",
    ")\n",
    "\n",
    "data = Neo4jParser.parse(result, True, False)\n",
    "data"
   ]
  },
  {
   "cell_type": "code",
   "execution_count": 4,
   "metadata": {},
   "outputs": [
    {
     "name": "stdout",
     "output_type": "stream",
     "text": [
      "Started streaming 1 records after 1 ms and completed after 2 ms.\n",
      "\n",
      "Query executed against database: 'neo4j':  \n",
      "    RETURN range(0, 100)[50..60];\n",
      "    \n"
     ]
    },
    {
     "data": {
      "text/plain": [
       "{'range(0, 100)[50..60]': [50, 51, 52, 53, 54, 55, 56, 57, 58, 59]}"
      ]
     },
     "execution_count": 4,
     "metadata": {},
     "output_type": "execute_result"
    }
   ],
   "source": [
    "# Use ranges inside square brackets to access elements of a list\n",
    "result = driver.execute_query(\n",
    "    \"\"\" \n",
    "    RETURN range(0, 100)[50..60];\n",
    "    \"\"\",\n",
    "    database_=\"neo4j\"\n",
    ")\n",
    "\n",
    "data = Neo4jParser.parse(result, True, False)\n",
    "data"
   ]
  },
  {
   "cell_type": "code",
   "execution_count": 5,
   "metadata": {},
   "outputs": [
    {
     "name": "stdout",
     "output_type": "stream",
     "text": [
      "Started streaming 1 records after 2 ms and completed after 3 ms.\n",
      "\n",
      "Query executed against database: 'neo4j':  \n",
      "    RETURN [x in range(0, 100) where x % 9 = 0 | x] AS list;\n",
      "    \n"
     ]
    },
    {
     "data": {
      "text/plain": [
       "{'list': [0, 9, 18, 27, 36, 45, 54, 63, 72, 81, 90, 99]}"
      ]
     },
     "execution_count": 5,
     "metadata": {},
     "output_type": "execute_result"
    }
   ],
   "source": [
    "# Use list comprehension to return all factors of 9 to 100\n",
    "result = driver.execute_query(\n",
    "    \"\"\" \n",
    "    RETURN [x in range(0, 100) where x % 9 = 0 | x] AS list;\n",
    "    \"\"\",\n",
    "    database_=\"neo4j\"\n",
    ")\n",
    "\n",
    "data = Neo4jParser.parse(result, True, False)\n",
    "data"
   ]
  },
  {
   "cell_type": "code",
   "execution_count": 6,
   "metadata": {},
   "outputs": [
    {
     "name": "stdout",
     "output_type": "stream",
     "text": [
      "Started streaming 1 records after 2 ms and completed after 5 ms.\n",
      "\n",
      "Query executed against database: 'neo4j':  \n",
      "    RETURN [x in range(0, 5) | {original_x: x, x_factor_of_x: x^x}] AS list;\n",
      "    \n"
     ]
    },
    {
     "data": {
      "text/plain": [
       "{'list': [{'original_x': 0, 'x_factor_of_x': 1.0},\n",
       "  {'original_x': 1, 'x_factor_of_x': 1.0},\n",
       "  {'original_x': 2, 'x_factor_of_x': 4.0},\n",
       "  {'original_x': 3, 'x_factor_of_x': 27.0},\n",
       "  {'original_x': 4, 'x_factor_of_x': 256.0},\n",
       "  {'original_x': 5, 'x_factor_of_x': 3125.0}]}"
      ]
     },
     "execution_count": 6,
     "metadata": {},
     "output_type": "execute_result"
    }
   ],
   "source": [
    "# Practice list comprehension\n",
    "result = driver.execute_query(\n",
    "    \"\"\" \n",
    "    RETURN [x in range(0, 5) | {original_x: x, x_factor_of_x: x^x}] AS list;\n",
    "    \"\"\",\n",
    "    database_=\"neo4j\"\n",
    ")\n",
    "\n",
    "data = Neo4jParser.parse(result, True, False)\n",
    "data"
   ]
  },
  {
   "cell_type": "code",
   "execution_count": null,
   "metadata": {},
   "outputs": [
    {
     "name": "stdout",
     "output_type": "stream",
     "text": [
      "Started streaming 1 records after 1 ms and completed after 3 ms.\n",
      "\n",
      "Query executed against database: 'neo4j':  \n",
      "    MATCH (p:Person {name: \"Tom Hanks\"})\n",
      "    RETURN [(p)-->(m:Movie) | m.title] AS list;\n",
      "    \n"
     ]
    },
    {
     "data": {
      "text/plain": [
       "{'list': [\"You've Got Mail\",\n",
       "  'Sleepless in Seattle',\n",
       "  'Joe Versus the Volcano',\n",
       "  'That Thing You Do',\n",
       "  'Cloud Atlas',\n",
       "  'The Da Vinci Code',\n",
       "  'The Green Mile',\n",
       "  'Apollo 13',\n",
       "  'Cast Away',\n",
       "  \"Charlie Wilson's War\",\n",
       "  'The Polar Express',\n",
       "  'A League of Their Own',\n",
       "  'That Thing You Do']}"
      ]
     },
     "execution_count": 11,
     "metadata": {},
     "output_type": "execute_result"
    }
   ],
   "source": [
    "# Practice pattern comprehension\n",
    "result = driver.execute_query(\n",
    "    \"\"\" \n",
    "    MATCH (p:Person {name: \"Tom Hanks\"})\n",
    "    RETURN [(p)-->(m:Movie) | m.title] AS list;\n",
    "    \"\"\",\n",
    "    database_=\"neo4j\"\n",
    ")\n",
    "\n",
    "data = Neo4jParser.parse(result, True, False)\n",
    "data"
   ]
  },
  {
   "cell_type": "code",
   "execution_count": 15,
   "metadata": {},
   "outputs": [
    {
     "name": "stdout",
     "output_type": "stream",
     "text": [
      "Started streaming 1 records after 28 ms and completed after 29 ms.\n",
      "\n",
      "Query executed against database: 'neo4j':  \n",
      "    MATCH (n:Person)\n",
      "    RETURN collect(n.name) as list_of_names;\n",
      "    \n"
     ]
    },
    {
     "data": {
      "text/plain": [
       "{'list_of_names': ['Aaron Sorkin',\n",
       "  'Al Pacino',\n",
       "  'Angela Scope',\n",
       "  'Annabella Sciorra',\n",
       "  'Anthony Edwards',\n",
       "  'Audrey Tautou',\n",
       "  'Ben Miles',\n",
       "  'Bill Paxton',\n",
       "  'Bill Pullman',\n",
       "  'Billy Crystal',\n",
       "  'Bonnie Hunt',\n",
       "  'Brooke Langton',\n",
       "  'Bruno Kirby',\n",
       "  'Cameron',\n",
       "  'Cameron Crowe',\n",
       "  'Carrie Fisher',\n",
       "  'Carrie-Anne Moss',\n",
       "  'Charlize Theron',\n",
       "  'Chris Columbus',\n",
       "  'Christian Bale',\n",
       "  'Christina Ricci',\n",
       "  'Christopher Guest',\n",
       "  'Clint Eastwood',\n",
       "  'Corey Feldman',\n",
       "  'Cuba Gooding Jr.',\n",
       "  'Danny DeVito',\n",
       "  'Dave Chappelle',\n",
       "  'David Mitchell',\n",
       "  'David Morse',\n",
       "  'Demi Moore',\n",
       "  'Diane Keaton',\n",
       "  'Dina Meyer',\n",
       "  'Ed Harris',\n",
       "  'Emil Eifrem',\n",
       "  'Emile Hirsch',\n",
       "  'Ethan Hawke',\n",
       "  'Frank Darabont',\n",
       "  'Frank Langella',\n",
       "  'Gary Sinise',\n",
       "  'Geena Davis',\n",
       "  'Gene Hackman',\n",
       "  'Greg Kinnear',\n",
       "  'Halle Berry',\n",
       "  'Helen Hunt',\n",
       "  'Howard Deutch',\n",
       "  'Hugo Weaving',\n",
       "  'Ian McKellen',\n",
       "  'Ice-T',\n",
       "  'J.T. Walsh',\n",
       "  'Jack Nicholson',\n",
       "  'James Cromwell',\n",
       "  'James L. Brooks',\n",
       "  'James Marshall',\n",
       "  'James Thompson',\n",
       "  'Jan de Bont',\n",
       "  'Jay Mohr',\n",
       "  \"Jerry O'Connell\",\n",
       "  'Jessica Thompson',\n",
       "  'Jim Broadbent',\n",
       "  'Jim Cash',\n",
       "  'Joel Silver',\n",
       "  'John C. Reilly',\n",
       "  'John Cusack',\n",
       "  'John Goodman',\n",
       "  'John Hurt',\n",
       "  'John Patrick Stanley',\n",
       "  'Jonathan Lipnicki',\n",
       "  'Julia Roberts',\n",
       "  'Keanu Reeves',\n",
       "  'Kelly McGillis',\n",
       "  'Kelly Preston',\n",
       "  'Kevin Bacon',\n",
       "  'Kevin Pollak',\n",
       "  'Kiefer Sutherland',\n",
       "  'Lana Wachowski',\n",
       "  'Laurence Fishburne',\n",
       "  'Lilly Wachowski',\n",
       "  'Liv Tyler',\n",
       "  'Lori Petty',\n",
       "  'Madonna',\n",
       "  'Marshall Bell',\n",
       "  'Matthew Fox',\n",
       "  'Max von Sydow',\n",
       "  'Meg Ryan',\n",
       "  'Michael Clarke Duncan',\n",
       "  'Michael Sheen',\n",
       "  'Mike Nichols',\n",
       "  'Milos Forman',\n",
       "  'Nancy Meyers',\n",
       "  'Naomie Harris',\n",
       "  'Natalie Portman',\n",
       "  'Nathan Lane',\n",
       "  'Noah Wyle',\n",
       "  'Nora Ephron',\n",
       "  'Oliver Platt',\n",
       "  'Orlando Jones',\n",
       "  'Parker Posey',\n",
       "  'Patricia Clarkson',\n",
       "  'Paul Bettany',\n",
       "  'Paul Blythe',\n",
       "  'Penny Marshall',\n",
       "  'Philip Seymour Hoffman',\n",
       "  'Rain',\n",
       "  'Regina King',\n",
       "  'Renee Zellweger',\n",
       "  'Richard Harris',\n",
       "  'Rick Yune',\n",
       "  'Rita Wilson',\n",
       "  'River Phoenix',\n",
       "  'Rob Reiner',\n",
       "  'Robert Longo',\n",
       "  'Robert Zemeckis',\n",
       "  'Robin Williams',\n",
       "  'Roger Staubach',\n",
       "  'Ron Howard',\n",
       "  \"Rosie O'Donnell\",\n",
       "  'Sam Rockwell',\n",
       "  'Scott Hicks',\n",
       "  'Stefan Arndt',\n",
       "  'Stephen Rea',\n",
       "  'Steve Zahn',\n",
       "  'Susan Sarandon',\n",
       "  'Takeshi Kitano',\n",
       "  'Taylor Hackford',\n",
       "  'Tom Cruise',\n",
       "  'Tom Hanks',\n",
       "  'Tom Skerritt',\n",
       "  'Tom Tykwer',\n",
       "  'Tony Scott',\n",
       "  'Val Kilmer',\n",
       "  'Victor Garber',\n",
       "  'Vincent Ward',\n",
       "  'Werner Herzog',\n",
       "  'Wil Wheaton',\n",
       "  'Zach Grenier']}"
      ]
     },
     "execution_count": 15,
     "metadata": {},
     "output_type": "execute_result"
    }
   ],
   "source": [
    "# Practice pattern comprehension\n",
    "result = driver.execute_query(\n",
    "    \"\"\" \n",
    "    MATCH (n:Person)\n",
    "    RETURN collect(n.name) as list_of_names;\n",
    "    \"\"\",\n",
    "    database_=\"neo4j\"\n",
    ")\n",
    "\n",
    "data = Neo4jParser.parse(result, True, False)\n",
    "data"
   ]
  },
  {
   "cell_type": "markdown",
   "metadata": {},
   "source": [
    "## `UNWIND`"
   ]
  },
  {
   "cell_type": "markdown",
   "metadata": {},
   "source": [
    "* `UNWIND` is executed over a list to convert the results back to row/column format."
   ]
  },
  {
   "cell_type": "code",
   "execution_count": 23,
   "metadata": {},
   "outputs": [
    {
     "name": "stdout",
     "output_type": "stream",
     "text": [
      "Started streaming 10 records after 48 ms and completed after 52 ms.\n",
      "\n",
      "Query executed against database: 'neo4j':  \n",
      "    MATCH (n:Person)\n",
      "    WITH collect(n.name) as list_of_names\n",
      "    UNWIND list_of_names as names\n",
      "    RETURN names LIMIT 10;\n",
      "    \n"
     ]
    },
    {
     "data": {
      "text/plain": [
       "{'names': ['Aaron Sorkin',\n",
       "  'Al Pacino',\n",
       "  'Angela Scope',\n",
       "  'Annabella Sciorra',\n",
       "  'Anthony Edwards',\n",
       "  'Audrey Tautou',\n",
       "  'Ben Miles',\n",
       "  'Bill Paxton',\n",
       "  'Bill Pullman',\n",
       "  'Billy Crystal']}"
      ]
     },
     "execution_count": 23,
     "metadata": {},
     "output_type": "execute_result"
    }
   ],
   "source": [
    "# Unwind a collect aggregation\n",
    "result = driver.execute_query(\n",
    "    \"\"\" \n",
    "    MATCH (n:Person)\n",
    "    WITH collect(n.name) as list_of_names\n",
    "    UNWIND list_of_names as names\n",
    "    RETURN names LIMIT 10;\n",
    "    \"\"\",\n",
    "    database_=\"neo4j\"\n",
    ")\n",
    "\n",
    "data = Neo4jParser.parse(result, True, False)\n",
    "data"
   ]
  },
  {
   "cell_type": "markdown",
   "metadata": {},
   "source": [
    "**NOTE:** This result looks the same as if `list_of_names` were returned. This is because of the way the `parse()` method works. To show the difference, let's output the results using `simple_parse()` instead."
   ]
  },
  {
   "cell_type": "code",
   "execution_count": 26,
   "metadata": {},
   "outputs": [
    {
     "data": {
      "text/plain": [
       "[{'names': 'Aaron Sorkin'},\n",
       " {'names': 'Al Pacino'},\n",
       " {'names': 'Angela Scope'},\n",
       " {'names': 'Annabella Sciorra'},\n",
       " {'names': 'Anthony Edwards'},\n",
       " {'names': 'Audrey Tautou'},\n",
       " {'names': 'Ben Miles'},\n",
       " {'names': 'Bill Paxton'},\n",
       " {'names': 'Bill Pullman'},\n",
       " {'names': 'Billy Crystal'}]"
      ]
     },
     "execution_count": 26,
     "metadata": {},
     "output_type": "execute_result"
    }
   ],
   "source": [
    "# Unwind a collect aggregation\n",
    "result = driver.execute_query(\n",
    "    \"\"\" \n",
    "    MATCH (n:Person)\n",
    "    WITH collect(n.name) as list_of_names\n",
    "    UNWIND list_of_names as names\n",
    "    RETURN names LIMIT 10;\n",
    "    \"\"\",\n",
    "    database_=\"neo4j\"\n",
    ")\n",
    "\n",
    "data = Neo4jParser.simple_parse(result)\n",
    "data"
   ]
  },
  {
   "cell_type": "code",
   "execution_count": 29,
   "metadata": {},
   "outputs": [
    {
     "name": "stdout",
     "output_type": "stream",
     "text": [
      "Started streaming 1 records after 39 ms and completed after 40 ms.\n",
      "\n",
      "Query executed against database: 'neo4j':  \n",
      "    WITH [1,2,2,2,3,3,3,4,4,4,5,5,5,5,6,6,6,1,2,3,4,4,5] as list\n",
      "    UNWIND list as rows\n",
      "    WITH DISTINCT rows\n",
      "    RETURN collect(rows) as distinct_list;\n",
      "    \n"
     ]
    },
    {
     "data": {
      "text/plain": [
       "{'distinct_list': [1, 2, 3, 4, 5, 6]}"
      ]
     },
     "execution_count": 29,
     "metadata": {},
     "output_type": "execute_result"
    }
   ],
   "source": [
    "# Return a distinct result from a list\n",
    "result = driver.execute_query(\n",
    "    \"\"\" \n",
    "    WITH [1,2,2,2,3,3,3,4,4,4,5,5,5,5,6,6,6,1,2,3,4,4,5] as list\n",
    "    UNWIND list as rows\n",
    "    WITH DISTINCT rows\n",
    "    RETURN collect(rows) as distinct_list;\n",
    "    \"\"\",\n",
    "    database_=\"neo4j\"\n",
    ")\n",
    "\n",
    "data = Neo4jParser.parse(result, True, False)\n",
    "data"
   ]
  },
  {
   "cell_type": "markdown",
   "metadata": {},
   "source": [
    "**NOTE:** We cannot return a distinct list directly, so the method is a bit more complicated. We have to convert to rows, use `DISTINCT` on rows, and then collect the final result."
   ]
  },
  {
   "cell_type": "code",
   "execution_count": 33,
   "metadata": {},
   "outputs": [
    {
     "name": "stdout",
     "output_type": "stream",
     "text": [
      "Started streaming 1 records after 37 ms and completed after 38 ms.\n",
      "\n",
      "Query executed against database: 'neo4j':  \n",
      "    WITH [1,2,2,2,3,3,3,4,4,4,5,5,5,5,6,6,6,1,2,3,4,4,5] as a, [10, 11, 12, 10, 11, 12] as b\n",
      "    WITH a + b as combined_list\n",
      "    UNWIND combined_list as ab\n",
      "    WITH DISTINCT ab\n",
      "    RETURN collect(ab);\n",
      "    \n"
     ]
    },
    {
     "data": {
      "text/plain": [
       "{'collect(ab)': [1, 2, 3, 4, 5, 6, 10, 11, 12]}"
      ]
     },
     "execution_count": 33,
     "metadata": {},
     "output_type": "execute_result"
    }
   ],
   "source": [
    "# Combine two lists into one\n",
    "result = driver.execute_query(\n",
    "    \"\"\" \n",
    "    WITH [1,2,2,2,3,3,3,4,4,4,5,5,5,5,6,6,6,1,2,3,4,4,5] as a, [10, 11, 12, 10, 11, 12] as b\n",
    "    WITH a + b as combined_list\n",
    "    UNWIND combined_list as ab\n",
    "    WITH DISTINCT ab\n",
    "    RETURN collect(ab);\n",
    "    \"\"\",\n",
    "    database_=\"neo4j\"\n",
    ")\n",
    "\n",
    "data = Neo4jParser.parse(result, True, False)\n",
    "data"
   ]
  },
  {
   "cell_type": "code",
   "execution_count": 39,
   "metadata": {},
   "outputs": [
    {
     "name": "stdout",
     "output_type": "stream",
     "text": [
      "Started streaming 1 records after 48 ms and completed after 49 ms.\n",
      "\n",
      "Query executed against database: 'neo4j':  \n",
      "    WITH [1,2,['a','b','c'],[3,[10,11,12,[69],'turkey'],3,4,5]] as L\n",
      "    UNWIND L as L1\n",
      "    UNWIND L1 as L2\n",
      "    UNWIND L2 as L3\n",
      "    UNWIND L3 as L4\n",
      "    RETURN collect(L4);\n",
      "    \n"
     ]
    },
    {
     "data": {
      "text/plain": [
       "{'collect(L4)': [1, 2, 'a', 'b', 'c', 3, 10, 11, 12, 69, 'turkey', 3, 4, 5]}"
      ]
     },
     "execution_count": 39,
     "metadata": {},
     "output_type": "execute_result"
    }
   ],
   "source": [
    "# unwind a list of lists\n",
    "result = driver.execute_query(\n",
    "    \"\"\" \n",
    "    WITH [1,2,['a','b','c'],[3,[10,11,12,[69],'turkey'],3,4,5]] as L\n",
    "    UNWIND L as L1\n",
    "    UNWIND L1 as L2\n",
    "    UNWIND L2 as L3\n",
    "    UNWIND L3 as L4\n",
    "    RETURN collect(L4);\n",
    "    \"\"\",\n",
    "    database_=\"neo4j\"\n",
    ")\n",
    "\n",
    "data = Neo4jParser.parse(result, True, False)\n",
    "data"
   ]
  },
  {
   "cell_type": "code",
   "execution_count": null,
   "metadata": {},
   "outputs": [],
   "source": []
  }
 ],
 "metadata": {
  "kernelspec": {
   "display_name": "udemy_neo4j_course",
   "language": "python",
   "name": "python3"
  },
  "language_info": {
   "codemirror_mode": {
    "name": "ipython",
    "version": 3
   },
   "file_extension": ".py",
   "mimetype": "text/x-python",
   "name": "python",
   "nbconvert_exporter": "python",
   "pygments_lexer": "ipython3",
   "version": "3.12.7"
  }
 },
 "nbformat": 4,
 "nbformat_minor": 2
}
