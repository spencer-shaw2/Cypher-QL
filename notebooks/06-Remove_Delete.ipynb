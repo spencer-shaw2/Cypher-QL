{
 "cells": [
  {
   "cell_type": "markdown",
   "metadata": {},
   "source": [
    "# About\n",
    "\n",
    "This notebook will introduce the `DELETE` and `REMOVE` Cypher keywords"
   ]
  },
  {
   "cell_type": "code",
   "execution_count": null,
   "metadata": {},
   "outputs": [],
   "source": [
    "from neo4j import GraphDatabase, Record, ResultSummary, EagerResult\n",
    "from neo4j.time import Date\n",
    "\n",
    "import pandas as pd\n",
    "pd.set_option('display.max_colwidth', 100)\n",
    "\n",
    "import os \n",
    "import sys\n",
    "from dotenv import load_dotenv \n",
    "load_dotenv()\n",
    "\n",
    "# Add the utils directory to sys.path\n",
    "sys.path.append(os.path.abspath(\"../utils\"))\n",
    "\n",
    "from Neo4jParser import Neo4jParser\n",
    "\n",
    "\n",
    "NEO4J_URI = os.getenv(\"NEO4J_URI\")\n",
    "NEO4J_USERNAME = os.getenv(\"NEO4J_USERNAME\")\n",
    "NEO4J_PASSWORD = os.getenv(\"NEO4J_PASSWORD\")\n",
    "\n",
    "driver = GraphDatabase.driver(NEO4J_URI, auth=(NEO4J_USERNAME, NEO4J_PASSWORD))"
   ]
  },
  {
   "cell_type": "markdown",
   "metadata": {},
   "source": [
    "## `DELETE`/`DETACH`\n",
    "\n",
    "* `DELETE` lets you remove data from your graph whether it's nodes, relationships or both.\n",
    "* To remove relationships you use `DETACH`.\n",
    "* To clear the entire graph run: `MATCH (n) DETACH DELETE n`"
   ]
  },
  {
   "cell_type": "code",
   "execution_count": 5,
   "metadata": {},
   "outputs": [
    {
     "name": "stdout",
     "output_type": "stream",
     "text": [
      "Started streaming 1 records after 217 ms and completed after 228 ms.\n",
      "\n",
      "Query executed against database: 'dev': CREATE (),(),(),(),(),() RETURN 1\n"
     ]
    },
    {
     "data": {
      "text/plain": [
       "{'1': [1]}"
      ]
     },
     "execution_count": 5,
     "metadata": {},
     "output_type": "execute_result"
    }
   ],
   "source": [
    "# Create some records in database \"dev\"\n",
    "result = driver.execute_query(\"CREATE DATABASE dev IF NOT EXISTS;\", database_=\"dev\")\n",
    "result = driver.execute_query(\"CREATE (),(),(),(),(),() RETURN 1\", database_=\"dev\")\n",
    "\n",
    "data = Neo4jParser.parse(result, True, False)\n",
    "data"
   ]
  },
  {
   "cell_type": "code",
   "execution_count": 7,
   "metadata": {},
   "outputs": [
    {
     "name": "stdout",
     "output_type": "stream",
     "text": [
      "Started streaming 1 records after 33 ms and completed after 34 ms.\n",
      "\n",
      "Query executed against database: 'dev': MATCH (n) RETURN COUNT(n);\n"
     ]
    },
    {
     "data": {
      "text/plain": [
       "{'COUNT(n)': [29]}"
      ]
     },
     "execution_count": 7,
     "metadata": {},
     "output_type": "execute_result"
    }
   ],
   "source": [
    "# How many records are in the database?\n",
    "result = driver.execute_query(\"MATCH (n) RETURN COUNT(n);\", database_=\"dev\")\n",
    "\n",
    "data = Neo4jParser.parse(result, True, False)\n",
    "data"
   ]
  },
  {
   "cell_type": "code",
   "execution_count": 8,
   "metadata": {},
   "outputs": [
    {
     "name": "stdout",
     "output_type": "stream",
     "text": [
      "Started streaming 0 records after 155 ms and completed after 155 ms.\n",
      "\n",
      "Query executed against database: 'dev': MATCH (n) DETACH DELETE n;\n"
     ]
    },
    {
     "data": {
      "text/plain": [
       "{}"
      ]
     },
     "execution_count": 8,
     "metadata": {},
     "output_type": "execute_result"
    }
   ],
   "source": [
    "# Remove all relationships and nodes in the graph\n",
    "result = driver.execute_query(\"MATCH (n) DETACH DELETE n;\", database_=\"dev\")\n",
    "\n",
    "data = Neo4jParser.parse(result, True, False)\n",
    "data"
   ]
  },
  {
   "cell_type": "code",
   "execution_count": 9,
   "metadata": {},
   "outputs": [
    {
     "name": "stdout",
     "output_type": "stream",
     "text": [
      "Started streaming 1 records after 2 ms and completed after 2 ms.\n",
      "\n",
      "Query executed against database: 'dev': MATCH (n) RETURN COUNT(n);\n"
     ]
    },
    {
     "data": {
      "text/plain": [
       "{'COUNT(n)': [0]}"
      ]
     },
     "execution_count": 9,
     "metadata": {},
     "output_type": "execute_result"
    }
   ],
   "source": [
    "# How many records are in the database now?\n",
    "result = driver.execute_query(\"MATCH (n) RETURN COUNT(n);\", database_=\"dev\")\n",
    "\n",
    "data = Neo4jParser.parse(result, True, False)\n",
    "data"
   ]
  },
  {
   "cell_type": "code",
   "execution_count": 23,
   "metadata": {},
   "outputs": [],
   "source": [
    "# Let's create some fake data\n",
    "result = driver.execute_query(\n",
    "    \"\"\" \n",
    "    CREATE (p1:Person {name: 'John Doe', age: 30, city: 'New York'}),\n",
    "        (p2:Person {name: 'Jane Smith', age: 25, city: 'Los Angeles'}),\n",
    "        (p3:Person {name: 'Alice Johnson', age: 35, city: 'Chicago'}),\n",
    "        (p4:Person {name: 'Bob Brown', age: 40, city: 'Miami'}),\n",
    "        (p5:Person {name: 'Charlie Davis', age: 28, city: 'Boston'});\n",
    "    \"\"\",\n",
    "    database_=\"dev\"\n",
    ")"
   ]
  },
  {
   "cell_type": "code",
   "execution_count": 24,
   "metadata": {},
   "outputs": [
    {
     "name": "stdout",
     "output_type": "stream",
     "text": [
      "Started streaming 1 records after 0 ms and completed after 0 ms.\n",
      "\n",
      "Query executed against database: 'dev':  \n",
      "    MATCH (p:Person {name: \"Bob Brown\"})\n",
      "    REMOVE p.name\n",
      "    RETURN p\n",
      "    \n"
     ]
    },
    {
     "data": {
      "text/plain": [
       "{'p': [{'elementId': '4:ff73e06d-56ad-4959-b409-fcc3d9dce978:21',\n",
       "   'labels': frozenset({'Person'}),\n",
       "   'properties': {'city': 'Miami', 'age': 40}}]}"
      ]
     },
     "execution_count": 24,
     "metadata": {},
     "output_type": "execute_result"
    }
   ],
   "source": [
    "# Let's remove the name from Bob Brown. He requests we keep his name confidential.\n",
    "result = driver.execute_query(\n",
    "    \"\"\" \n",
    "    MATCH (p:Person {name: \"Bob Brown\"})\n",
    "    REMOVE p.name\n",
    "    RETURN p\n",
    "    \"\"\",\n",
    "    database_=\"dev\"\n",
    ")\n",
    "\n",
    "data = Neo4jParser.parse(result, True, False)\n",
    "data"
   ]
  },
  {
   "cell_type": "code",
   "execution_count": 25,
   "metadata": {},
   "outputs": [
    {
     "name": "stdout",
     "output_type": "stream",
     "text": [
      "Started streaming 5 records after 0 ms and completed after 0 ms.\n",
      "\n",
      "Query executed against database: 'dev':  \n",
      "    MATCH (p:Person)\n",
      "    REMOVE p:Person\n",
      "    RETURN *\n",
      "    \n"
     ]
    },
    {
     "data": {
      "text/plain": [
       "{'p': [{'elementId': '4:ff73e06d-56ad-4959-b409-fcc3d9dce978:18',\n",
       "   'labels': frozenset(),\n",
       "   'properties': {'city': 'New York', 'name': 'John Doe', 'age': 30}},\n",
       "  {'elementId': '4:ff73e06d-56ad-4959-b409-fcc3d9dce978:19',\n",
       "   'labels': frozenset(),\n",
       "   'properties': {'city': 'Los Angeles', 'name': 'Jane Smith', 'age': 25}},\n",
       "  {'elementId': '4:ff73e06d-56ad-4959-b409-fcc3d9dce978:20',\n",
       "   'labels': frozenset(),\n",
       "   'properties': {'city': 'Chicago', 'name': 'Alice Johnson', 'age': 35}},\n",
       "  {'elementId': '4:ff73e06d-56ad-4959-b409-fcc3d9dce978:21',\n",
       "   'labels': frozenset(),\n",
       "   'properties': {'city': 'Miami', 'age': 40}},\n",
       "  {'elementId': '4:ff73e06d-56ad-4959-b409-fcc3d9dce978:22',\n",
       "   'labels': frozenset(),\n",
       "   'properties': {'city': 'Boston', 'name': 'Charlie Davis', 'age': 28}}]}"
      ]
     },
     "execution_count": 25,
     "metadata": {},
     "output_type": "execute_result"
    }
   ],
   "source": [
    "# Remove a label from a node\n",
    "result = driver.execute_query(\n",
    "    \"\"\" \n",
    "    MATCH (p:Person)\n",
    "    REMOVE p:Person\n",
    "    RETURN *\n",
    "    \"\"\",\n",
    "    database_=\"dev\"\n",
    ")\n",
    "\n",
    "data = Neo4jParser.parse(result, True, False)\n",
    "data"
   ]
  },
  {
   "cell_type": "code",
   "execution_count": 26,
   "metadata": {},
   "outputs": [
    {
     "name": "stdout",
     "output_type": "stream",
     "text": [
      "Started streaming 15 records after 33 ms and completed after 34 ms.\n",
      "\n",
      "Query executed against database: 'dev':  \n",
      "    MATCH (p)\n",
      "    REMOVE p.age\n",
      "    RETURN *\n",
      "    \n"
     ]
    },
    {
     "data": {
      "text/plain": [
       "{'p': [{'elementId': '4:ff73e06d-56ad-4959-b409-fcc3d9dce978:8',\n",
       "   'labels': frozenset(),\n",
       "   'properties': {'city': 'New York', 'name': 'John Doe'}},\n",
       "  {'elementId': '4:ff73e06d-56ad-4959-b409-fcc3d9dce978:9',\n",
       "   'labels': frozenset(),\n",
       "   'properties': {'city': 'Los Angeles', 'name': 'Jane Smith'}},\n",
       "  {'elementId': '4:ff73e06d-56ad-4959-b409-fcc3d9dce978:10',\n",
       "   'labels': frozenset(),\n",
       "   'properties': {'city': 'Chicago', 'name': 'Alice Johnson'}},\n",
       "  {'elementId': '4:ff73e06d-56ad-4959-b409-fcc3d9dce978:11',\n",
       "   'labels': frozenset(),\n",
       "   'properties': {'city': 'Miami'}},\n",
       "  {'elementId': '4:ff73e06d-56ad-4959-b409-fcc3d9dce978:12',\n",
       "   'labels': frozenset(),\n",
       "   'properties': {'city': 'Boston', 'name': 'Charlie Davis'}},\n",
       "  {'elementId': '4:ff73e06d-56ad-4959-b409-fcc3d9dce978:13',\n",
       "   'labels': frozenset(),\n",
       "   'properties': {'city': 'New York', 'name': 'John Doe'}},\n",
       "  {'elementId': '4:ff73e06d-56ad-4959-b409-fcc3d9dce978:14',\n",
       "   'labels': frozenset(),\n",
       "   'properties': {'city': 'Los Angeles', 'name': 'Jane Smith'}},\n",
       "  {'elementId': '4:ff73e06d-56ad-4959-b409-fcc3d9dce978:15',\n",
       "   'labels': frozenset(),\n",
       "   'properties': {'city': 'Chicago', 'name': 'Alice Johnson'}},\n",
       "  {'elementId': '4:ff73e06d-56ad-4959-b409-fcc3d9dce978:16',\n",
       "   'labels': frozenset(),\n",
       "   'properties': {'city': 'Miami'}},\n",
       "  {'elementId': '4:ff73e06d-56ad-4959-b409-fcc3d9dce978:17',\n",
       "   'labels': frozenset(),\n",
       "   'properties': {'city': 'Boston', 'name': 'Charlie Davis'}},\n",
       "  {'elementId': '4:ff73e06d-56ad-4959-b409-fcc3d9dce978:18',\n",
       "   'labels': frozenset(),\n",
       "   'properties': {'city': 'New York', 'name': 'John Doe'}},\n",
       "  {'elementId': '4:ff73e06d-56ad-4959-b409-fcc3d9dce978:19',\n",
       "   'labels': frozenset(),\n",
       "   'properties': {'city': 'Los Angeles', 'name': 'Jane Smith'}},\n",
       "  {'elementId': '4:ff73e06d-56ad-4959-b409-fcc3d9dce978:20',\n",
       "   'labels': frozenset(),\n",
       "   'properties': {'city': 'Chicago', 'name': 'Alice Johnson'}},\n",
       "  {'elementId': '4:ff73e06d-56ad-4959-b409-fcc3d9dce978:21',\n",
       "   'labels': frozenset(),\n",
       "   'properties': {'city': 'Miami'}},\n",
       "  {'elementId': '4:ff73e06d-56ad-4959-b409-fcc3d9dce978:22',\n",
       "   'labels': frozenset(),\n",
       "   'properties': {'city': 'Boston', 'name': 'Charlie Davis'}}]}"
      ]
     },
     "execution_count": 26,
     "metadata": {},
     "output_type": "execute_result"
    }
   ],
   "source": [
    "# Remove the age property \n",
    "result = driver.execute_query(\n",
    "    \"\"\" \n",
    "    MATCH (p)\n",
    "    REMOVE p.age\n",
    "    RETURN *\n",
    "    \"\"\",\n",
    "    database_=\"dev\"\n",
    ")\n",
    "\n",
    "data = Neo4jParser.parse(result, True, False)\n",
    "data"
   ]
  }
 ],
 "metadata": {
  "kernelspec": {
   "display_name": "udemy_neo4j_course",
   "language": "python",
   "name": "python3"
  },
  "language_info": {
   "codemirror_mode": {
    "name": "ipython",
    "version": 3
   },
   "file_extension": ".py",
   "mimetype": "text/x-python",
   "name": "python",
   "nbconvert_exporter": "python",
   "pygments_lexer": "ipython3",
   "version": "3.12.7"
  }
 },
 "nbformat": 4,
 "nbformat_minor": 2
}
