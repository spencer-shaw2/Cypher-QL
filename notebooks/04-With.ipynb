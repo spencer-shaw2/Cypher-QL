{
 "cells": [
  {
   "cell_type": "markdown",
   "metadata": {},
   "source": [
    "# About\n",
    "\n",
    "This notebook will introduce the `WITH` cypher keyword."
   ]
  },
  {
   "cell_type": "code",
   "execution_count": null,
   "metadata": {},
   "outputs": [],
   "source": [
    "from neo4j import GraphDatabase, Record, ResultSummary, EagerResult\n",
    "from neo4j.time import Date\n",
    "\n",
    "import pandas as pd\n",
    "pd.set_option('display.max_colwidth', 100)\n",
    "\n",
    "import os \n",
    "import sys\n",
    "from dotenv import load_dotenv \n",
    "load_dotenv()\n",
    "\n",
    "# Add the utils directory to sys.path\n",
    "sys.path.append(os.path.abspath(\"../utils\"))\n",
    "\n",
    "from Neo4jParser import Neo4jParser\n",
    "\n",
    "\n",
    "NEO4J_URI = os.getenv(\"NEO4J_URI\")\n",
    "NEO4J_USERNAME = os.getenv(\"NEO4J_USERNAME\")\n",
    "NEO4J_PASSWORD = os.getenv(\"NEO4J_PASSWORD\")\n",
    "\n",
    "driver = GraphDatabase.driver(NEO4J_URI, auth=(NEO4J_USERNAME, NEO4J_PASSWORD))"
   ]
  },
  {
   "cell_type": "markdown",
   "metadata": {},
   "source": [
    "## `WITH`"
   ]
  },
  {
   "cell_type": "markdown",
   "metadata": {},
   "source": [
    "* The `WITH` clause allows you to use specific variables in the successive line of code.\n",
    "* `WITH` can be used to write subqueries.\n",
    "* If I have a query:<br>\n",
    "    `MATCH (p:Person)--(m:Movie)`<br>\n",
    "    `WITH p`<br>\n",
    "    `RETURN m.title`<br>\n",
    "    * This query will throw an error because we specified \"WITH p\" which tells Neo4j, \"After this line, only remember the variables and values I specified.\n",
    "* Expressions can be used in `WITH` but they MUST be aliased.\n",
    "* Variables can be ordered within the `WITH` clause.\n",
    "* `WITH` allows you to run all `RETURN` commands like `SKIP`, `LIMIT`, `ORDER BY`, etc. These actions have to be done before returning an output in a list format using a functin like `collect()`.\n",
    "* `WITH` can be powerfully used in confuction with `OPTIONAL MATCH`. Say you query a pattern using `MATCH` and you want to see if a node in your first pattern is matched with another pattern. `WITH` let's you handle this all in the same query."
   ]
  },
  {
   "cell_type": "code",
   "execution_count": 2,
   "metadata": {},
   "outputs": [
    {
     "name": "stdout",
     "output_type": "stream",
     "text": [
      "Started streaming 255 records after 0 ms and completed after 2 ms.\n",
      "\n",
      "Query executed against database: 'neo4j':  \n",
      "    MATCH (p:Person)--(m:Movie)\n",
      "    WITH p \n",
      "    RETURN *\n",
      "    \n"
     ]
    },
    {
     "data": {
      "text/plain": [
       "dict_keys(['p'])"
      ]
     },
     "execution_count": 2,
     "metadata": {},
     "output_type": "execute_result"
    }
   ],
   "source": [
    "# Demonstrate how with restricts variables\n",
    "result = driver.execute_query(\n",
    "    \"\"\" \n",
    "    MATCH (p:Person)--(m:Movie)\n",
    "    WITH p \n",
    "    RETURN *\n",
    "    \"\"\",\n",
    "    database_=\"neo4j\"\n",
    ")\n",
    "\n",
    "data = Neo4jParser.parse(result, True, False)\n",
    "# Notice in data.keys() only one variable is returned 'p' since we delcared \"WITH p\"\n",
    "data.keys()"
   ]
  },
  {
   "cell_type": "code",
   "execution_count": 3,
   "metadata": {},
   "outputs": [
    {
     "name": "stdout",
     "output_type": "stream",
     "text": [
      "Started streaming 139 records after 1 ms and completed after 2 ms.\n",
      "\n",
      "Query executed against database: 'neo4j':  \n",
      "    MATCH (p:Person)\n",
      "    WITH toUpper(labels(p)[0]) AS upperLabels, p\n",
      "    RETURN *\n",
      "    \n"
     ]
    },
    {
     "data": {
      "text/plain": [
       "{'upperLabels': ['PERSON', 'PERSON', 'PERSON', 'PERSON', 'PERSON'],\n",
       " 'p': [{'elementId': '4:552b0252-2f83-4c7e-a0bf-f921a4b1b7cf:1',\n",
       "   'labels': frozenset({'Person'}),\n",
       "   'properties': {'born': 1964, 'name': 'Keanu Reeves'}},\n",
       "  {'elementId': '4:552b0252-2f83-4c7e-a0bf-f921a4b1b7cf:2',\n",
       "   'labels': frozenset({'Person'}),\n",
       "   'properties': {'born': 1967, 'name': 'Carrie-Anne Moss'}},\n",
       "  {'elementId': '4:552b0252-2f83-4c7e-a0bf-f921a4b1b7cf:3',\n",
       "   'labels': frozenset({'Person'}),\n",
       "   'properties': {'born': 1961, 'name': 'Laurence Fishburne'}},\n",
       "  {'elementId': '4:552b0252-2f83-4c7e-a0bf-f921a4b1b7cf:4',\n",
       "   'labels': frozenset({'Person'}),\n",
       "   'properties': {'born': 1960, 'name': 'Hugo Weaving'}},\n",
       "  {'elementId': '4:552b0252-2f83-4c7e-a0bf-f921a4b1b7cf:5',\n",
       "   'labels': frozenset({'Person'}),\n",
       "   'properties': {'born': 1967, 'name': 'Andy Wachowski'}}]}"
      ]
     },
     "execution_count": 3,
     "metadata": {},
     "output_type": "execute_result"
    }
   ],
   "source": [
    "# Use with clause with an expression\n",
    "result = driver.execute_query(\n",
    "    \"\"\" \n",
    "    MATCH (p:Person)\n",
    "    WITH toUpper(labels(p)[0]) AS upperLabels, p\n",
    "    RETURN *\n",
    "    \"\"\",\n",
    "    database_=\"neo4j\"\n",
    ")\n",
    "\n",
    "data = Neo4jParser.parse(result, True, False)\n",
    "\n",
    "# For each key returned, show the top 5 records\n",
    "head = {}\n",
    "for key in data.keys():\n",
    "    head[key] = data[key][:5]\n",
    "\n",
    "head"
   ]
  },
  {
   "cell_type": "code",
   "execution_count": 4,
   "metadata": {},
   "outputs": [
    {
     "name": "stdout",
     "output_type": "stream",
     "text": [
      "Started streaming 5 records after 1 ms and completed after 1 ms.\n",
      "\n",
      "Query executed against database: 'neo4j':  \n",
      "    MATCH (p:Person)\n",
      "    WITH p ORDER BY p.name\n",
      "    RETURN * LIMIT 5\n",
      "    \n"
     ]
    },
    {
     "data": {
      "text/plain": [
       "{'p': [{'elementId': '4:552b0252-2f83-4c7e-a0bf-f921a4b1b7cf:28',\n",
       "   'labels': frozenset({'Person'}),\n",
       "   'properties': {'born': 1961, 'name': 'Aaron Sorkin'}},\n",
       "  {'elementId': '4:552b0252-2f83-4c7e-a0bf-f921a4b1b7cf:13',\n",
       "   'labels': frozenset({'Person'}),\n",
       "   'properties': {'born': 1940, 'name': 'Al Pacino'}},\n",
       "  {'elementId': '4:552b0252-2f83-4c7e-a0bf-f921a4b1b7cf:5',\n",
       "   'labels': frozenset({'Person'}),\n",
       "   'properties': {'born': 1967, 'name': 'Andy Wachowski'}},\n",
       "  {'elementId': '4:552b0252-2f83-4c7e-a0bf-f921a4b1b7cf:166',\n",
       "   'labels': frozenset({'Person'}),\n",
       "   'properties': {'name': 'Angela Scope'}},\n",
       "  {'elementId': '4:552b0252-2f83-4c7e-a0bf-f921a4b1b7cf:57',\n",
       "   'labels': frozenset({'Person'}),\n",
       "   'properties': {'born': 1960, 'name': 'Annabella Sciorra'}}]}"
      ]
     },
     "execution_count": 4,
     "metadata": {},
     "output_type": "execute_result"
    }
   ],
   "source": [
    "# Use with clause and order variables\n",
    "result = driver.execute_query(\n",
    "    \"\"\" \n",
    "    MATCH (p:Person)\n",
    "    WITH p ORDER BY p.name\n",
    "    RETURN * LIMIT 5\n",
    "    \"\"\",\n",
    "    database_=\"neo4j\"\n",
    ")\n",
    "\n",
    "data = Neo4jParser.parse(result, True, False)\n",
    "\n",
    "# For each key returned, show the top 5 records\n",
    "head = {}\n",
    "for key in data.keys():\n",
    "    head[key] = data[key][:5]\n",
    "\n",
    "head"
   ]
  },
  {
   "cell_type": "code",
   "execution_count": 9,
   "metadata": {},
   "outputs": [
    {
     "name": "stdout",
     "output_type": "stream",
     "text": [
      "Started streaming 1 records after 42 ms and completed after 43 ms.\n",
      "\n",
      "Query executed against database: 'neo4j':  \n",
      "    MATCH (p:Person)\n",
      "    WHERE p.born IS NOT NULL\n",
      "    WITH p.born AS born SKIP 5 LIMIT 4 ORDER BY born DESC\n",
      "    RETURN DISTINCT collect(born)\n",
      "    \n"
     ]
    },
    {
     "data": {
      "text/plain": [
       "{'collect(born)': [[1978, 1975, 1965, 1952]]}"
      ]
     },
     "execution_count": 9,
     "metadata": {},
     "output_type": "execute_result"
    }
   ],
   "source": [
    "# Use skip, limit, order by with 'with' and return with 'collect()'\n",
    "result = driver.execute_query(\n",
    "    \"\"\" \n",
    "    MATCH (p:Person)\n",
    "    WHERE p.born IS NOT NULL\n",
    "    WITH p.born AS born SKIP 5 LIMIT 4 ORDER BY born DESC\n",
    "    RETURN DISTINCT collect(born)\n",
    "    \"\"\",\n",
    "    database_=\"neo4j\"\n",
    ")\n",
    "\n",
    "data = Neo4jParser.parse(result, True, False)\n",
    "data"
   ]
  },
  {
   "cell_type": "code",
   "execution_count": 14,
   "metadata": {},
   "outputs": [
    {
     "name": "stdout",
     "output_type": "stream",
     "text": [
      "Started streaming 1 records after 86 ms and completed after 87 ms.\n",
      "\n",
      "Query executed against database: 'neo4j':  \n",
      "    MATCH (p:Person)-[:ACTED_IN]->(m:Movie {title: \"A Few Good Men\"})\n",
      "    WITH p\n",
      "    MATCH (p)-[:ACTED_IN]->(m:Movie)\n",
      "    WHERE m.title <> \"A Few Good Men\" \n",
      "    WITH DISTINCT m.title AS movies ORDER BY movies\n",
      "    RETURN collect(movies) AS movies_list\n",
      "    \n"
     ]
    },
    {
     "data": {
      "text/plain": [
       "{'movies_list': [['Apollo 13',\n",
       "   'As Good as It Gets',\n",
       "   'Frost/Nixon',\n",
       "   'Hoffa',\n",
       "   'Jerry Maguire',\n",
       "   \"One Flew Over the Cuckoo's Nest\",\n",
       "   \"Something's Gotta Give\",\n",
       "   'Stand By Me',\n",
       "   'Top Gun',\n",
       "   'What Dreams May Come']]}"
      ]
     },
     "execution_count": 14,
     "metadata": {},
     "output_type": "execute_result"
    }
   ],
   "source": [
    "# Use 'with' to show the movies the other movies that were acting in by the same actors who acted in \"A Few Good Men\"\n",
    "result = driver.execute_query(\n",
    "    \"\"\" \n",
    "    MATCH (p:Person)-[:ACTED_IN]->(m:Movie {title: \"A Few Good Men\"})\n",
    "    WITH p\n",
    "    MATCH (p)-[:ACTED_IN]->(m:Movie)\n",
    "    WHERE m.title <> \"A Few Good Men\" \n",
    "    WITH DISTINCT m.title AS movies ORDER BY movies\n",
    "    RETURN collect(movies) AS movies_list\n",
    "    \"\"\",\n",
    "    database_=\"neo4j\"\n",
    ")\n",
    "\n",
    "data = Neo4jParser.parse(result, True, False)\n",
    "data"
   ]
  },
  {
   "cell_type": "code",
   "execution_count": 20,
   "metadata": {},
   "outputs": [
    {
     "name": "stdout",
     "output_type": "stream",
     "text": [
      "Started streaming 1 records after 16 ms and completed after 17 ms.\n",
      "\n",
      "Query executed against database: 'neo4j':  \n",
      "    MATCH (p:Person {name: \"Meg Ryan\"})-[:ACTED_IN]->(m:Movie)\n",
      "    WITH m ORDER BY m.released DESC LIMIT 1 \n",
      "    OPTIONAL MATCH (m)<-[:DIRECTED]-(p:Person)\n",
      "    RETURN p.name\n",
      "    \n"
     ]
    },
    {
     "data": {
      "text/plain": [
       "{'p.name': ['Nora Ephron']}"
      ]
     },
     "execution_count": 20,
     "metadata": {},
     "output_type": "execute_result"
    }
   ],
   "source": [
    "# Show the director of the most recent movie \"Meg Ryan\" acted in\n",
    "result = driver.execute_query(\n",
    "    \"\"\" \n",
    "    MATCH (p:Person {name: \"Meg Ryan\"})-[:ACTED_IN]->(m:Movie)\n",
    "    WITH m ORDER BY m.released DESC LIMIT 1 \n",
    "    OPTIONAL MATCH (m)<-[:DIRECTED]-(p:Person)\n",
    "    RETURN p.name\n",
    "    \"\"\",\n",
    "    database_=\"neo4j\"\n",
    ")\n",
    "\n",
    "data = Neo4jParser.parse(result, True, False)\n",
    "data"
   ]
  },
  {
   "cell_type": "code",
   "execution_count": null,
   "metadata": {},
   "outputs": [],
   "source": []
  }
 ],
 "metadata": {
  "kernelspec": {
   "display_name": "udemy_neo4j_course",
   "language": "python",
   "name": "python3"
  },
  "language_info": {
   "codemirror_mode": {
    "name": "ipython",
    "version": 3
   },
   "file_extension": ".py",
   "mimetype": "text/x-python",
   "name": "python",
   "nbconvert_exporter": "python",
   "pygments_lexer": "ipython3",
   "version": "3.12.7"
  }
 },
 "nbformat": 4,
 "nbformat_minor": 2
}
